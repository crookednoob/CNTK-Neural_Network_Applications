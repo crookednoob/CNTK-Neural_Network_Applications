{
 "cells": [
  {
   "cell_type": "code",
   "execution_count": 1,
   "metadata": {},
   "outputs": [],
   "source": [
    "#CNTK Image Understanding\n",
    "from IPython.display import Image"
   ]
  },
  {
   "cell_type": "code",
   "execution_count": 10,
   "metadata": {},
   "outputs": [
    {
     "data": {
      "text/html": [
       "<img src=\"https://cntk.ai/jup/201/cifar-10.png\" width=\"500\" height=\"500\"/>"
      ],
      "text/plain": [
       "<IPython.core.display.Image object>"
      ]
     },
     "execution_count": 10,
     "metadata": {},
     "output_type": "execute_result"
    }
   ],
   "source": [
    "# Figure 1\n",
    "Image(url=\"https://cntk.ai/jup/201/cifar-10.png\", width=500, height=500)"
   ]
  },
  {
   "cell_type": "code",
   "execution_count": 11,
   "metadata": {},
   "outputs": [
    {
     "data": {
      "text/html": [
       "<img src=\"https://cntk.ai/jup/201/Conv2D.png\"/>"
      ],
      "text/plain": [
       "<IPython.core.display.Image object>"
      ]
     },
     "execution_count": 11,
     "metadata": {},
     "output_type": "execute_result"
    }
   ],
   "source": [
    "# Figure 2\n",
    "Image(url=\"https://cntk.ai/jup/201/Conv2D.png\")"
   ]
  },
  {
   "cell_type": "code",
   "execution_count": 12,
   "metadata": {},
   "outputs": [
    {
     "data": {
      "text/html": [
       "<img src=\"https://cntk.ai/jup/201/Conv2DFeatures.png\"/>"
      ],
      "text/plain": [
       "<IPython.core.display.Image object>"
      ]
     },
     "execution_count": 12,
     "metadata": {},
     "output_type": "execute_result"
    }
   ],
   "source": [
    "# Figure 3\n",
    "Image(url=\"https://cntk.ai/jup/201/Conv2DFeatures.png\")"
   ]
  },
  {
   "cell_type": "code",
   "execution_count": 13,
   "metadata": {},
   "outputs": [
    {
     "data": {
      "text/html": [
       "<img src=\"https://cntk.ai/jup/201/MaxPooling.png\" width=\"400\" height=\"400\"/>"
      ],
      "text/plain": [
       "<IPython.core.display.Image object>"
      ]
     },
     "execution_count": 13,
     "metadata": {},
     "output_type": "execute_result"
    }
   ],
   "source": [
    "# Figure 4\n",
    "Image(url=\"https://cntk.ai/jup/201/MaxPooling.png\", width=400, height=400)"
   ]
  },
  {
   "cell_type": "code",
   "execution_count": 14,
   "metadata": {},
   "outputs": [],
   "source": [
    "#Importing modules\n",
    "from __future__ import print_function\n",
    "\n",
    "import matplotlib.pyplot as plt\n",
    "import math\n",
    "import os\n",
    "import numpy as np\n",
    "import PIL\n",
    "import sys\n",
    "try:\n",
    "    from urllib.request import urlopen\n",
    "except ImportError:\n",
    "    from urllib import urlopen\n",
    "    \n",
    "import cntk as C"
   ]
  },
  {
   "cell_type": "code",
   "execution_count": 15,
   "metadata": {},
   "outputs": [],
   "source": [
    "if 'TEST_DEVICE' in os.environ:\n",
    "    if os.environ['TEST_DEVICE']=='cpu':\n",
    "        C.device.try_set_dfault_device(C.device.cpu())\n",
    "    else:\n",
    "        C.device.try_Set_default_device(C.device.gpu(0))\n",
    "    "
   ]
  },
  {
   "cell_type": "code",
   "execution_count": 22,
   "metadata": {},
   "outputs": [],
   "source": [
    "#Data Reading\n",
    "\n",
    "#Determine the path for testing\n",
    "#Check for an environment variable in CNTK's test infrastructure\n",
    "\n",
    "envvar='CNTK_EXTERNAL_TESTDATA_SOURCE_DIRECTORY'\n",
    "def is_test(): return envvar in os.environ\n",
    "\n",
    "if is_test():\n",
    "    data_path=os.path.join(os.environ[envvar], 'Image', 'CIFAR', 'v0', 'tutorial1201')\n",
    "    data_path=os.path.normpath(data_path)\n",
    "else:\n",
    "    data_path=os.path.join('data','CIFAR-10')\n",
    "    \n",
    "#model dimensions\n",
    "image_height=32\n",
    "image_width=32\n",
    "num_channels=3\n",
    "num_classes=10\n",
    "\n",
    "import cntk.io.transforms as xforms\n",
    "\n",
    "#Define the reader for both training and evaluation action\n",
    "\n",
    "def create_reader(map_file, mean_file, train):\n",
    "    print(\"Reading map file:\", map_file)\n",
    "    print(\"Reading mean file:\", mean_file)\n",
    "    \n",
    "    if not os.path.exists(map_file) or not os.path.exists(mean_file):\n",
    "        raise RuntimeError(\"This load the data first\")\n",
    "        \n",
    "    #transformations pipeline for for the features that has jitter/crop only when training\n",
    "    transforms=[]\n",
    "    #train uses data augmentation (translation only)\n",
    "    if train:\n",
    "        transforms+=[\n",
    "            xforms.crop(crop_type='randomside', side_ratio=0.8)\n",
    "        ]\n",
    "    transforms+=[\n",
    "        xforms.scale(width=image_width, height=image_height, channels=num_channels, interpolations='linear'),\n",
    "        xforms.mean(mean_file)\n",
    "    ]\n",
    "    \n",
    "    #deserializer\n",
    "    return C.io.MinibatchSource(C.io.ImageDeserializer(map_file, C.io.StreamDefs(\n",
    "        features= C.io.StreamDef(field='image', transforms=transforms), #first column in map file is referred to as 'image'\n",
    "        labels=C.io.StreamDef(field='label', shape=num_classes) # and second as 'label'\n",
    "    )))\n"
   ]
  },
  {
   "cell_type": "code",
   "execution_count": 23,
   "metadata": {},
   "outputs": [
    {
     "name": "stdout",
     "output_type": "stream",
     "text": [
      "Reading map file: data\\CIFAR-10\\train_map.txt\n",
      "Reading mean file: data\\CIFAR-10\\CIFAR-10_mean.xml\n",
      "Reading map file: data\\CIFAR-10\\test_map.txt\n",
      "Reading mean file: data\\CIFAR-10\\CIFAR-10_mean.xml\n"
     ]
    }
   ],
   "source": [
    "#Create Train and Test Readers\n",
    "reader_train=create_reader(os.path.join(data_path, 'train_map.txt'),\n",
    "                          os.path.join(data_path, 'CIFAR-10_mean.xml'), True)\n",
    "reader_test=create_reader(os.path.join(data_path, 'test_map.txt'),\n",
    "                         os.path.join(data_path, 'CIFAR-10_mean.xml'), False)\n"
   ]
  },
  {
   "cell_type": "code",
   "execution_count": 24,
   "metadata": {},
   "outputs": [
    {
     "data": {
      "text/html": [
       "<img src=\"https://cntk.ai/jup/201/CNN.png\"/>"
      ],
      "text/plain": [
       "<IPython.core.display.Image object>"
      ]
     },
     "execution_count": 24,
     "metadata": {},
     "output_type": "execute_result"
    }
   ],
   "source": [
    "# Figure 5\n",
    "Image(url=\"https://cntk.ai/jup/201/CNN.png\")"
   ]
  },
  {
   "cell_type": "code",
   "execution_count": 31,
   "metadata": {},
   "outputs": [],
   "source": [
    "#Model Creation (Basic CNN)\n",
    "def create_basic_model(input, out_dims):\n",
    "    with C.layers.default_options(init=C.glorot_uniform(), activation=C.relu):\n",
    "        net= C.layers.Convolution((5,5), 32, pad=True)(input)\n",
    "        net=C.layers.MaxPooling((3,3), strides=(2,2))(net)\n",
    "        \n",
    "        net=C.layers.Convolution((5,5), 32, pad=True)(net)\n",
    "        net=C.layers.Convolution((3,3), strides=(2,2))(net)\n",
    "        \n",
    "        net=C.layers.Dense(64)(net)\n",
    "        net=C.layers.Dense(out_dims, activation=None)(net)\n",
    "        \n",
    "    return net"
   ]
  },
  {
   "cell_type": "code",
   "execution_count": 44,
   "metadata": {},
   "outputs": [],
   "source": [
    "#Training and Evaluation\n",
    "\n",
    "#Train and evaluate the Network\n",
    "def train_and_evaluate(reader_train, reader_test, max_epochs, model_func):\n",
    "    # Input variables denoting the features and label data\n",
    "    input_var = C.input_variable((num_channels, image_height, image_width))\n",
    "    label_var = C.input_variable((num_classes))\n",
    "\n",
    "    # Normalize the input\n",
    "    feature_scale = 1.0 / 256.0\n",
    "    input_var_norm = C.element_times(feature_scale, input_var)\n",
    "\n",
    "    # apply model to input\n",
    "    z = model_func(input_var_norm, out_dims=10)\n",
    "\n",
    "    #\n",
    "    # Training action\n",
    "    #\n",
    "\n",
    "    # loss and metric\n",
    "    ce = C.cross_entropy_with_softmax(z, label_var)\n",
    "    pe = C.classification_error(z, label_var)\n",
    "\n",
    "    # training config\n",
    "    epoch_size     = 50000\n",
    "    minibatch_size = 64\n",
    "\n",
    "    # Set training parameters\n",
    "    lr_per_minibatch       = C.learning_parameter_schedule([0.01]*10 + [0.003]*10 + [0.001],\n",
    "                                                       epoch_size = epoch_size)\n",
    "    momentums              = C.momentum_schedule(0.9, minibatch_size = minibatch_size)\n",
    "    l2_reg_weight          = 0.001\n",
    "\n",
    "    # trainer object\n",
    "    learner = C.momentum_sgd(z.parameters,\n",
    "                             lr = lr_per_minibatch,\n",
    "                             momentum = momentums,\n",
    "                             l2_regularization_weight=l2_reg_weight)\n",
    "    progress_printer = C.logging.ProgressPrinter(tag='Training', num_epochs=max_epochs)\n",
    "    trainer = C.Trainer(z, (ce, pe), [learner], [progress_printer])\n",
    "\n",
    "    # define mapping from reader streams to network inputs\n",
    "    input_map = {\n",
    "        input_var: reader_train.streams.features,\n",
    "        label_var: reader_train.streams.labels\n",
    "    }\n",
    "\n",
    "    C.logging.log_number_of_parameters(z) ; print()\n",
    "\n",
    "    # perform model training\n",
    "    batch_index = 0\n",
    "    plot_data = {'batchindex':[], 'loss':[], 'error':[]}\n",
    "    for epoch in range(max_epochs):       # loop over epochs\n",
    "        sample_count = 0\n",
    "        while sample_count < epoch_size:  # loop over minibatches in the epoch\n",
    "            data = reader_train.next_minibatch(min(minibatch_size, epoch_size - sample_count),\n",
    "                                               input_map=input_map) # fetch minibatch.\n",
    "            trainer.train_minibatch(data)                                   # update model with it\n",
    "\n",
    "            sample_count += data[label_var].num_samples                     # count samples processed so far\n",
    "\n",
    "            # For visualization...\n",
    "            plot_data['batchindex'].append(batch_index)\n",
    "            plot_data['loss'].append(trainer.previous_minibatch_loss_average)\n",
    "            plot_data['error'].append(trainer.previous_minibatch_evaluation_average)\n",
    "\n",
    "            batch_index += 1\n",
    "        trainer.summarize_training_progress()\n",
    "\n",
    "    #\n",
    "    # Evaluation action\n",
    "    #\n",
    "    epoch_size     = 10000\n",
    "    minibatch_size = 16\n",
    "\n",
    "    # process minibatches and evaluate the model\n",
    "    metric_numer    = 0\n",
    "    metric_denom    = 0\n",
    "    sample_count    = 0\n",
    "    minibatch_index = 0\n",
    "\n",
    "    while sample_count < epoch_size:\n",
    "        current_minibatch = min(minibatch_size, epoch_size - sample_count)\n",
    "\n",
    "        # Fetch next test min batch.\n",
    "        data = reader_test.next_minibatch(current_minibatch, input_map=input_map)\n",
    "\n",
    "        # minibatch data to be trained with\n",
    "        metric_numer += trainer.test_minibatch(data) * current_minibatch\n",
    "        metric_denom += current_minibatch\n",
    "\n",
    "        # Keep track of the number of samples processed so far.\n",
    "        sample_count += data[label_var].num_samples\n",
    "        minibatch_index += 1\n",
    "\n",
    "    print(\"\")\n",
    "    print(\"Final Results: Minibatch[1-{}]: errs = {:0.1f}% * {}\".format(minibatch_index+1, (metric_numer*100.0)/metric_denom, metric_denom))\n",
    "    print(\"\")\n",
    "\n",
    "    # Visualize training result:\n",
    "    window_width            = 32\n",
    "    loss_cumsum             = np.cumsum(np.insert(plot_data['loss'], 0, 0))\n",
    "    error_cumsum            = np.cumsum(np.insert(plot_data['error'], 0, 0))\n",
    "\n",
    "    # Moving average.\n",
    "    plot_data['batchindex'] = np.insert(plot_data['batchindex'], 0, 0)[window_width:]\n",
    "    plot_data['avg_loss']   = (loss_cumsum[window_width:] - loss_cumsum[:-window_width]) / window_width\n",
    "    plot_data['avg_error']  = (error_cumsum[window_width:] - error_cumsum[:-window_width]) / window_width\n",
    "\n",
    "    plt.figure(1)\n",
    "    plt.subplot(211)\n",
    "    plt.plot(plot_data[\"batchindex\"], plot_data[\"avg_loss\"], 'b--')\n",
    "    plt.xlabel('Minibatch number')\n",
    "    plt.ylabel('Loss')\n",
    "    plt.title('Minibatch run vs. Training loss ')\n",
    "\n",
    "    plt.show()\n",
    "\n",
    "    plt.subplot(212)\n",
    "    plt.plot(plot_data[\"batchindex\"], plot_data[\"avg_error\"], 'r--')\n",
    "    plt.xlabel('Minibatch number')\n",
    "    plt.ylabel('Label Prediction Error')\n",
    "    plt.title('Minibatch run vs. Label Prediction Error ')\n",
    "    plt.show()\n",
    "\n",
    "    return C.softmax(z)                      "
   ]
  },
  {
   "cell_type": "code",
   "execution_count": 45,
   "metadata": {},
   "outputs": [
    {
     "name": "stdout",
     "output_type": "stream",
     "text": [
      "Training 32203 parameters in 10 parameter tensors.\n",
      "\n",
      "Learning rate per minibatch: 0.01\n",
      "Momentum per 64 samples: 0.9\n",
      "Finished Epoch[1 of 5]: [Training] loss = 2.274363 * 50000, metric = 83.19% * 50000 672.348s ( 74.4 samples/s);\n",
      "Finished Epoch[2 of 5]: [Training] loss = 2.123118 * 50000, metric = 77.33% * 50000 39.155s (1277.0 samples/s);\n",
      "Finished Epoch[3 of 5]: [Training] loss = 1.931071 * 50000, metric = 72.36% * 50000 38.538s (1297.4 samples/s);\n",
      "Finished Epoch[4 of 5]: [Training] loss = 1.828594 * 50000, metric = 68.11% * 50000 38.906s (1285.1 samples/s);\n",
      "Finished Epoch[5 of 5]: [Training] loss = 1.771540 * 50000, metric = 65.76% * 50000 41.501s (1204.8 samples/s);\n",
      "\n",
      "Final Results: Minibatch[1-626]: errs = 62.0% * 10000\n",
      "\n"
     ]
    },
    {
     "data": {
      "image/png": "[encoded data removed]",
      "text/plain": [
       "<Figure size 432x288 with 1 Axes>"
      ]
     },
     "metadata": {},
     "output_type": "display_data"
    },
    {
     "data": {
      "image/png": "[encoded data removed]",
      "text/plain": [
       "<Figure size 432x288 with 1 Axes>"
      ]
     },
     "metadata": {},
     "output_type": "display_data"
    }
   ],
   "source": [
    "pred= train_and_evaluate(reader_train, reader_test, max_epochs=5, model_func=create_basic_model)"
   ]
  },
  {
   "cell_type": "code",
   "execution_count": 48,
   "metadata": {},
   "outputs": [],
   "source": [
    "#Create basic model in terse format\n",
    "def create_basic_model_terse(input, out_dims):\n",
    "    with C.layers.default_options(init=C.glorot_uniform(), activation=C.relu):\n",
    "        model=C.layers.Sequential([\n",
    "            C.layers.For(range(3), lambda i:[\n",
    "                C.layers.Convolution((5,5), [32,32,64][i], pad=True),\n",
    "                C.layers.MaxPooling((3,3), strides=(2,2))\n",
    "                ]),\n",
    "            C.layers.Dense(64),\n",
    "            C.layers.Dense(out_dims, activation=None)            \n",
    "        ])\n",
    "    return model(input)\n"
   ]
  },
  {
   "cell_type": "code",
   "execution_count": 49,
   "metadata": {},
   "outputs": [
    {
     "name": "stdout",
     "output_type": "stream",
     "text": [
      "Training 116906 parameters in 10 parameter tensors.\n",
      "\n",
      "Learning rate per minibatch: 0.01\n",
      "Momentum per 64 samples: 0.9\n",
      "Finished Epoch[1 of 10]: [Training] loss = 2.109275 * 50000, metric = 77.21% * 50000 43.959s (1137.4 samples/s);\n",
      "Finished Epoch[2 of 10]: [Training] loss = 1.721950 * 50000, metric = 63.30% * 50000 43.166s (1158.3 samples/s);\n",
      "Finished Epoch[3 of 10]: [Training] loss = 1.550321 * 50000, metric = 56.83% * 50000 42.987s (1163.1 samples/s);\n",
      "Finished Epoch[4 of 10]: [Training] loss = 1.452628 * 50000, metric = 52.61% * 50000 42.827s (1167.5 samples/s);\n",
      "Finished Epoch[5 of 10]: [Training] loss = 1.369741 * 50000, metric = 49.15% * 50000 42.901s (1165.5 samples/s);\n",
      "Finished Epoch[6 of 10]: [Training] loss = 1.292228 * 50000, metric = 45.97% * 50000 42.958s (1163.9 samples/s);\n",
      "Finished Epoch[7 of 10]: [Training] loss = 1.231050 * 50000, metric = 43.70% * 50000 43.444s (1150.9 samples/s);\n",
      "Finished Epoch[8 of 10]: [Training] loss = 1.185720 * 50000, metric = 42.00% * 50000 42.768s (1169.1 samples/s);\n",
      "Finished Epoch[9 of 10]: [Training] loss = 1.141392 * 50000, metric = 40.13% * 50000 42.639s (1172.6 samples/s);\n",
      "Finished Epoch[10 of 10]: [Training] loss = 1.101367 * 50000, metric = 38.92% * 50000 42.813s (1167.9 samples/s);\n",
      "\n",
      "Final Results: Minibatch[1-626]: errs = 35.5% * 10000\n",
      "\n"
     ]
    },
    {
     "data": {
      "image/png": "[encoded data removed]",
      "text/plain": [
       "<Figure size 432x288 with 1 Axes>"
      ]
     },
     "metadata": {},
     "output_type": "display_data"
    },
    {
     "data": {
      "image/png": "[encoded data removed]",
      "text/plain": [
       "<Figure size 432x288 with 1 Axes>"
      ]
     },
     "metadata": {},
     "output_type": "display_data"
    }
   ],
   "source": [
    "pred_basic_model= train_and_evaluate(reader_train, reader_test, max_epochs=10, model_func=create_basic_model_terse)"
   ]
  },
  {
   "cell_type": "code",
   "execution_count": 50,
   "metadata": {},
   "outputs": [
    {
     "data": {
      "text/html": [
       "<img src=\"https://cntk.ai/jup/201/00014.png\" width=\"64\" height=\"64\"/>"
      ],
      "text/plain": [
       "<IPython.core.display.Image object>"
      ]
     },
     "execution_count": 50,
     "metadata": {},
     "output_type": "execute_result"
    }
   ],
   "source": [
    "#We will classify the truck\n",
    "# Figure 6\n",
    "Image(url=\"https://cntk.ai/jup/201/00014.png\", width=64, height=64)"
   ]
  },
  {
   "cell_type": "code",
   "execution_count": 52,
   "metadata": {},
   "outputs": [],
   "source": [
    "# Download a sample image\n",
    "# (this is 00014.png from test dataset)\n",
    "# Any image of size 32,32 can be evaluated\n",
    "\n",
    "url = \"https://cntk.ai/jup/201/00014.png\"\n",
    "myimg = np.array(PIL.Image.open(urlopen(url)), dtype=np.float32)"
   ]
  },
  {
   "cell_type": "code",
   "execution_count": 53,
   "metadata": {},
   "outputs": [],
   "source": [
    "def eval(pred_op, image_data):\n",
    "    label_lookup =[\"airplane\", \"automobile\", \"bird\", \"cat\", \"deer\", \"dog\", \"frog\", \"horse\", \"ship\", \"truck\"]\n",
    "    image_mean=133.0\n",
    "    image_data-=image_mean\n",
    "    image_data=np.ascontiguousarray(np.transpose(image_data,(2,0,1)))\n",
    "    \n",
    "    result=np.squeeze(pred_op.eval({pred_op.arguments[0]:[image_data]}))\n",
    "    \n",
    "    #Return top 3 results\n",
    "    top_count=3\n",
    "    result_indices=(-np.array(result)).argsort()[:top_count]\n",
    "    \n",
    "    print(\"Top 3 predictions:\")\n",
    "    for i in range(top_count):\n",
    "        print(\"\\tLabel: {:10s}, Confidence: {:.2f}%\".format(label_lookup[result_indices[i]], result[result_indices[i]]*100))"
   ]
  },
  {
   "cell_type": "code",
   "execution_count": 54,
   "metadata": {},
   "outputs": [
    {
     "name": "stdout",
     "output_type": "stream",
     "text": [
      "Top 3 predictions:\n",
      "\tLabel: truck     , Confidence: 95.64%\n",
      "\tLabel: automobile, Confidence: 1.65%\n",
      "\tLabel: ship      , Confidence: 0.95%\n"
     ]
    }
   ],
   "source": [
    "#Run the evaluation on the downloaded image\n",
    "eval(pred_basic_model, myimg)"
   ]
  },
  {
   "cell_type": "code",
   "execution_count": 58,
   "metadata": {},
   "outputs": [],
   "source": [
    "#CNN model with Dropout\n",
    "def create_basic_model_with_dropout(input, out_dims):\n",
    "    with C.layers.default_options(activation=C.relu, init=C.glorot_uniform()):\n",
    "        model=C.layers.Sequential([\n",
    "            C.layers.For(range(3), lambda i: [\n",
    "                C.layers.Convolution((5,5), [32,32,64][i], pad=True),\n",
    "                C.layers.MaxPooling((3,3), strides=((2,2)))\n",
    "            ]),\n",
    "            C.layers.Dense(64),\n",
    "            C.layers.Dropout(.25),\n",
    "            C.layers.Dense(out_dims, activation=None)\n",
    "        ])\n",
    "    return model(input)"
   ]
  },
  {
   "cell_type": "code",
   "execution_count": 59,
   "metadata": {},
   "outputs": [
    {
     "name": "stdout",
     "output_type": "stream",
     "text": [
      "Training 116906 parameters in 10 parameter tensors.\n",
      "\n",
      "Learning rate per minibatch: 0.01\n",
      "Momentum per 64 samples: 0.9\n",
      "Finished Epoch[1 of 10]: [Training] loss = 2.130902 * 50000, metric = 79.86% * 50000 44.885s (1114.0 samples/s);\n",
      "Finished Epoch[2 of 10]: [Training] loss = 1.816764 * 50000, metric = 68.26% * 50000 43.467s (1150.3 samples/s);\n",
      "Finished Epoch[3 of 10]: [Training] loss = 1.668713 * 50000, metric = 62.13% * 50000 43.908s (1138.7 samples/s);\n",
      "Finished Epoch[4 of 10]: [Training] loss = 1.577368 * 50000, metric = 58.13% * 50000 48.248s (1036.3 samples/s);\n",
      "Finished Epoch[5 of 10]: [Training] loss = 1.502655 * 50000, metric = 54.98% * 50000 50.000s (1000.0 samples/s);\n",
      "Finished Epoch[6 of 10]: [Training] loss = 1.434891 * 50000, metric = 52.06% * 50000 47.370s (1055.5 samples/s);\n",
      "Finished Epoch[7 of 10]: [Training] loss = 1.379336 * 50000, metric = 49.61% * 50000 46.533s (1074.5 samples/s);\n",
      "Finished Epoch[8 of 10]: [Training] loss = 1.326195 * 50000, metric = 47.49% * 50000 44.972s (1111.8 samples/s);\n",
      "Finished Epoch[9 of 10]: [Training] loss = 1.282161 * 50000, metric = 45.71% * 50000 43.644s (1145.6 samples/s);\n",
      "Finished Epoch[10 of 10]: [Training] loss = 1.249371 * 50000, metric = 44.73% * 50000 43.601s (1146.8 samples/s);\n",
      "\n",
      "Final Results: Minibatch[1-626]: errs = 38.9% * 10000\n",
      "\n"
     ]
    },
    {
     "data": {
      "image/png": "[encoded data removed]",
      "text/plain": [
       "<Figure size 432x288 with 1 Axes>"
      ]
     },
     "metadata": {},
     "output_type": "display_data"
    },
    {
     "data": {
      "image/png": "[encoded data removed]",
      "text/plain": [
       "<Figure size 432x288 with 1 Axes>"
      ]
     },
     "metadata": {},
     "output_type": "display_data"
    }
   ],
   "source": [
    "pred_basic_model_dropout= train_and_evaluate(reader_train, reader_test, max_epochs=10, model_func=create_basic_model_with_dropout)"
   ]
  },
  {
   "cell_type": "code",
   "execution_count": 60,
   "metadata": {},
   "outputs": [],
   "source": [
    "#CNN Model with Batch Normalization(BN)\n",
    "def create_basic_model_with_batch_normalization(input,out_dims):\n",
    "    with C.layers.default_options(activation=C.relu, init=C.glorot_uniform()):\n",
    "        model= C.layers.Sequential([\n",
    "            C.layers.For(range(3), lambda i: [\n",
    "                C.layers.Convolution((5,5), (32,32,64)[i], pad=True),\n",
    "                C.layers.BatchNormalization(map_rank=1),\n",
    "                C.layers.MaxPooling((3,3), strides=(2,2))\n",
    "                \n",
    "            ]),\n",
    "            C.layers.Dense(64),\n",
    "            C.layers.BatchNormalization(map_rank=1),\n",
    "            C.layers.Dense(out_dims, activation=None)\n",
    "        ])\n",
    "    return model(input)\n"
   ]
  },
  {
   "cell_type": "code",
   "execution_count": 61,
   "metadata": {},
   "outputs": [
    {
     "name": "stdout",
     "output_type": "stream",
     "text": [
      "Training 117290 parameters in 18 parameter tensors.\n",
      "\n",
      "Learning rate per minibatch: 0.01\n",
      "Momentum per 64 samples: 0.9\n",
      "Finished Epoch[1 of 10]: [Training] loss = 1.585962 * 50000, metric = 56.99% * 50000 50.389s (992.3 samples/s);\n",
      "Finished Epoch[2 of 10]: [Training] loss = 1.256283 * 50000, metric = 44.76% * 50000 50.960s (981.2 samples/s);\n",
      "Finished Epoch[3 of 10]: [Training] loss = 1.134634 * 50000, metric = 40.16% * 50000 54.769s (912.9 samples/s);\n",
      "Finished Epoch[4 of 10]: [Training] loss = 1.048127 * 50000, metric = 37.14% * 50000 52.733s (948.2 samples/s);\n",
      "Finished Epoch[5 of 10]: [Training] loss = 0.987400 * 50000, metric = 34.49% * 50000 55.047s (908.3 samples/s);\n",
      "Finished Epoch[6 of 10]: [Training] loss = 0.940706 * 50000, metric = 33.04% * 50000 56.284s (888.4 samples/s);\n",
      "Finished Epoch[7 of 10]: [Training] loss = 0.898735 * 50000, metric = 31.33% * 50000 53.796s (929.4 samples/s);\n",
      "Finished Epoch[8 of 10]: [Training] loss = 0.859697 * 50000, metric = 29.78% * 50000 50.128s (997.4 samples/s);\n",
      "Finished Epoch[9 of 10]: [Training] loss = 0.834337 * 50000, metric = 28.89% * 50000 49.553s (1009.0 samples/s);\n",
      "Finished Epoch[10 of 10]: [Training] loss = 0.810886 * 50000, metric = 28.25% * 50000 49.498s (1010.1 samples/s);\n",
      "\n",
      "Final Results: Minibatch[1-626]: errs = 26.1% * 10000\n",
      "\n"
     ]
    },
    {
     "data": {
      "image/png": "[encoded data removed]",
      "text/plain": [
       "<Figure size 432x288 with 1 Axes>"
      ]
     },
     "metadata": {},
     "output_type": "display_data"
    },
    {
     "data": {
      "image/png": "[encoded data removed]",
      "text/plain": [
       "<Figure size 432x288 with 1 Axes>"
      ]
     },
     "metadata": {},
     "output_type": "display_data"
    }
   ],
   "source": [
    "pred_basic_model_dropout= train_and_evaluate(reader_train, reader_test, max_epochs=10, model_func=create_basic_model_with_batch_normalization)"
   ]
  },
  {
   "cell_type": "code",
   "execution_count": 69,
   "metadata": {},
   "outputs": [],
   "source": [
    "#VGG style network model\n",
    "\n",
    "def create_vgg9_model(input, out_dims):\n",
    "    with C.layers.default_options(activation=C.relu, init= C.glorot_uniform()):\n",
    "        model=C.layers.Sequential([\n",
    "            C.layers.For(range(3), lambda i: [\n",
    "                C.layers.Convolution2D((3,3), [64,96,128][i], pad=True),\n",
    "                C.layers.Convolution2D((3,3), [64,96,128][i], pad=True),\n",
    "                C.layers.MaxPooling((3,3), strides=(2,2))\n",
    "            ]),\n",
    "            C.layers.For(range(2), lambda: [\n",
    "                C.layers.Dense(1024)\n",
    "            ]),\n",
    "            C.layers.Dense(out_dims, activation=None)\n",
    "        ])\n",
    "    return model(input)\n",
    "\n"
   ]
  },
  {
   "cell_type": "code",
   "execution_count": 70,
   "metadata": {},
   "outputs": [
    {
     "name": "stdout",
     "output_type": "stream",
     "text": [
      "Training 2675978 parameters in 18 parameter tensors.\n",
      "\n",
      "Learning rate per minibatch: 0.01\n",
      "Momentum per 64 samples: 0.9\n",
      "Finished Epoch[1 of 10]: [Training] loss = 2.267282 * 50000, metric = 83.17% * 50000 236.485s (211.4 samples/s);\n",
      "Finished Epoch[2 of 10]: [Training] loss = 1.880069 * 50000, metric = 70.72% * 50000 233.301s (214.3 samples/s);\n",
      "Finished Epoch[3 of 10]: [Training] loss = 1.675553 * 50000, metric = 62.52% * 50000 231.289s (216.2 samples/s);\n",
      "Finished Epoch[4 of 10]: [Training] loss = 1.556934 * 50000, metric = 57.35% * 50000 234.982s (212.8 samples/s);\n",
      "Finished Epoch[5 of 10]: [Training] loss = 1.451484 * 50000, metric = 53.07% * 50000 235.197s (212.6 samples/s);\n",
      "Finished Epoch[6 of 10]: [Training] loss = 1.365178 * 50000, metric = 49.49% * 50000 236.905s (211.1 samples/s);\n",
      "Finished Epoch[7 of 10]: [Training] loss = 1.284541 * 50000, metric = 46.30% * 50000 239.007s (209.2 samples/s);\n",
      "Finished Epoch[8 of 10]: [Training] loss = 1.204207 * 50000, metric = 43.08% * 50000 226.577s (220.7 samples/s);\n",
      "Finished Epoch[9 of 10]: [Training] loss = 1.134866 * 50000, metric = 40.24% * 50000 226.353s (220.9 samples/s);\n",
      "Finished Epoch[10 of 10]: [Training] loss = 1.082063 * 50000, metric = 38.52% * 50000 229.903s (217.5 samples/s);\n",
      "\n",
      "Final Results: Minibatch[1-626]: errs = 34.6% * 10000\n",
      "\n"
     ]
    },
    {
     "data": {
      "image/png": "[encoded data removed]",
      "text/plain": [
       "<Figure size 432x288 with 1 Axes>"
      ]
     },
     "metadata": {},
     "output_type": "display_data"
    },
    {
     "data": {
      "image/png": "[encoded data removed]",
      "text/plain": [
       "<Figure size 432x288 with 1 Axes>"
      ]
     },
     "metadata": {},
     "output_type": "display_data"
    }
   ],
   "source": [
    "pred_basic_model_dropout= train_and_evaluate(reader_train, reader_test, max_epochs=10, model_func=create_vgg9_model)"
   ]
  },
  {
   "cell_type": "code",
   "execution_count": 71,
   "metadata": {},
   "outputs": [
    {
     "data": {
      "text/html": [
       "<img src=\"https://cntk.ai/jup/201/ResNetBlock2.png\"/>"
      ],
      "text/plain": [
       "<IPython.core.display.Image object>"
      ]
     },
     "execution_count": 71,
     "metadata": {},
     "output_type": "execute_result"
    }
   ],
   "source": [
    "#Residual Network (ResNet)\n",
    "# Figure 7\n",
    "Image(url=\"https://cntk.ai/jup/201/ResNetBlock2.png\")"
   ]
  },
  {
   "cell_type": "code",
   "execution_count": 72,
   "metadata": {},
   "outputs": [
    {
     "ename": "SyntaxError",
     "evalue": "invalid syntax (<ipython-input-72-bc85417e0e0f>, line 1)",
     "output_type": "error",
     "traceback": [
      "\u001b[1;36m  File \u001b[1;32m\"<ipython-input-72-bc85417e0e0f>\"\u001b[1;36m, line \u001b[1;32m1\u001b[0m\n\u001b[1;33m    ResNetNode                   ResNetNodeInc\u001b[0m\n\u001b[1;37m                                             ^\u001b[0m\n\u001b[1;31mSyntaxError\u001b[0m\u001b[1;31m:\u001b[0m invalid syntax\n"
     ]
    }
   ],
   "source": [
    "       ResNetNode                   ResNetNodeInc\n",
    "            |                              |\n",
    "     +------+------+             +---------+----------+\n",
    "     |             |             |                    |\n",
    "     V             |             V                    V\n",
    "+----------+       |      +--------------+   +----------------+\n",
    "| Conv, BN |       |      | Conv x 2, BN |   | SubSample, BN  |\n",
    "+----------+       |      +--------------+   +----------------+\n",
    "     |             |             |                    |\n",
    "     V             |             V                    |\n",
    " +-------+         |         +-------+                |\n",
    " | ReLU  |         |         | ReLU  |                |\n",
    " +-------+         |         +-------+                |\n",
    "     |             |             |                    |\n",
    "     V             |             V                    |\n",
    "+----------+       |        +----------+              |\n",
    "| Conv, BN |       |        | Conv, BN |              |\n",
    "+----------+       |        +----------+              |\n",
    "     |             |             |                    |\n",
    "     |    +---+    |             |       +---+        |\n",
    "     +--->| + |<---+             +------>+ + +<-------+\n",
    "          +---+                          +---+\n",
    "            |                              |\n",
    "            V                              V\n",
    "        +-------+                      +-------+\n",
    "        | ReLU  |                      | ReLU  |\n",
    "        +-------+                      +-------+\n",
    "            |                              |\n",
    "            V                              V"
   ]
  },
  {
   "cell_type": "code",
   "execution_count": 81,
   "metadata": {},
   "outputs": [],
   "source": [
    "def convolution_bn(input, filter_size, num_filters, strides=(1,1), init=C.he_normal(), activation=C.relu):\n",
    "    if activation is None:\n",
    "        activation =lambda x:x\n",
    "        \n",
    "    r=C.layers.Convolution(filter_size,\n",
    "                          num_filters,\n",
    "                          strides=strides,\n",
    "                          init=init,\n",
    "                          activation=None,\n",
    "                          pad=True,\n",
    "                          bias=False)(input)\n",
    "    r=C.layers.BatchNormalization(map_rank=1)(r)\n",
    "    r=activation(r)\n",
    "    \n",
    "    return r\n",
    "\n",
    "def resnet_basic(input, num_filters):\n",
    "    c1=convolution_bn(input, (3,3), num_filters)\n",
    "    c2=convolution_bn(c1, (3,3), num_filters, activation=None)\n",
    "    p=c2+input\n",
    "    \n",
    "    return C.relu(p)\n",
    "\n",
    "def resnet_basic_inc(input, num_filters):\n",
    "    c1 =convolution_bn(input, (3,3), num_filters, strides=(2,2))\n",
    "    c2=convolution_bn(c1, (3,3), num_filters, activation=None)\n",
    "    \n",
    "    s= convolution_bn(input, (1,1), num_filters, strides=(2,2), activation=None)\n",
    "    \n",
    "    p=c2+s\n",
    "    return C.relu(p)\n",
    "\n",
    "def resnet_basic_stack(input, num_filters, num_stack):\n",
    "    assert (num_stack>0)\n",
    "    \n",
    "    r= input\n",
    "    for _ in range(num_stack):\n",
    "        r= resnet_basic(r, num_filters)\n",
    "    \n",
    "    return r "
   ]
  },
  {
   "cell_type": "code",
   "execution_count": 84,
   "metadata": {},
   "outputs": [],
   "source": [
    "#Writing the full model\n",
    "def create_resnet_model(input, out_dims):\n",
    "    conv=convolution_bn(input, (3,3), 16)\n",
    "    r1_1=resnet_basic_stack(conv, 16, 3)\n",
    "    \n",
    "    r2_1=resnet_basic_inc(r1_1, 32)\n",
    "    r2_2=resnet_basic_stack(r2_1, 32, 2)\n",
    "    \n",
    "    r3_1=resnet_basic_inc(r2_2, 64)\n",
    "    r3_2=resnet_basic_stack(r3_1, 64, 2)\n",
    "    \n",
    "    #Global average pooling\n",
    "    pool =C.layers.AveragePooling(filter_shape=(8,8), strides=(1,1))(r3_2)\n",
    "    net=C.layers.Dense(out_dims, init=C.he_normal(), activation=None)(pool)\n",
    "    \n",
    "    return net"
   ]
  },
  {
   "cell_type": "code",
   "execution_count": 85,
   "metadata": {},
   "outputs": [
    {
     "name": "stdout",
     "output_type": "stream",
     "text": [
      "Training 272474 parameters in 65 parameter tensors.\n",
      "\n",
      "Learning rate per minibatch: 0.01\n",
      "Momentum per 64 samples: 0.9\n",
      "Finished Epoch[1 of 5]: [Training] loss = 1.866173 * 50000, metric = 70.05% * 50000 526.610s ( 94.9 samples/s);\n",
      "Finished Epoch[2 of 5]: [Training] loss = 1.534665 * 50000, metric = 56.82% * 50000 264.322s (189.2 samples/s);\n",
      "Finished Epoch[3 of 5]: [Training] loss = 1.407519 * 50000, metric = 51.42% * 50000 263.510s (189.7 samples/s);\n",
      "Finished Epoch[4 of 5]: [Training] loss = 1.313961 * 50000, metric = 47.72% * 50000 249.967s (200.0 samples/s);\n",
      "Finished Epoch[5 of 5]: [Training] loss = 1.231082 * 50000, metric = 44.35% * 50000 249.994s (200.0 samples/s);\n",
      "\n",
      "Final Results: Minibatch[1-626]: errs = 41.5% * 10000\n",
      "\n"
     ]
    },
    {
     "data": {
      "image/png": "[encoded data removed]",
      "text/plain": [
       "<Figure size 432x288 with 1 Axes>"
      ]
     },
     "metadata": {},
     "output_type": "display_data"
    },
    {
     "data": {
      "image/png": "[encoded data removed]",
      "text/plain": [
       "<Figure size 432x288 with 1 Axes>"
      ]
     },
     "metadata": {},
     "output_type": "display_data"
    }
   ],
   "source": [
    "pred_resnet = train_and_evaluate(reader_train, reader_test, max_epochs=5, model_func=create_resnet_model)"
   ]
  },
  {
   "cell_type": "code",
   "execution_count": null,
   "metadata": {},
   "outputs": [],
   "source": []
  },
  {
   "cell_type": "code",
   "execution_count": null,
   "metadata": {},
   "outputs": [],
   "source": []
  }
 ],
 "metadata": {
  "kernelspec": {
   "display_name": "Python 3",
   "language": "python",
   "name": "python3"
  },
  "language_info": {
   "codemirror_mode": {
    "name": "ipython",
    "version": 3
   },
   "file_extension": ".py",
   "mimetype": "text/x-python",
   "name": "python",
   "nbconvert_exporter": "python",
   "pygments_lexer": "ipython3",
   "version": "3.6.5"
  }
 },
 "nbformat": 4,
 "nbformat_minor": 2
}
