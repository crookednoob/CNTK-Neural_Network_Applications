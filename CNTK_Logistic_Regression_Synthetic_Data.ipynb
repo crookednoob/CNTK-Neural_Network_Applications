{
 "cells": [
  {
   "cell_type": "code",
   "execution_count": 4,
   "metadata": {},
   "outputs": [],
   "source": [
    "#Problem: A cancer hospital has provided data and wants us to determine if a patient has a fatal malignant cancer vs. a benign \n",
    "#growth. This is known as a classification problem. To help classify each patient, we are given their age and the size of the \n",
    "#tumor. Intuitively, one can imagine that younger patients and/or patients with small tumors are less likely to have a malignant \n",
    "#cancer. The data set simulates this application: each observation is a patient represented as a dot (in the plot below), where \n",
    "#red indicates malignant and blue indicates benign. Note: This is a toy example for learning; in real life many features from \n",
    "#different tests/examination sources and the expertise of doctors would play into the diagnosis/treatment decision for a patient."
   ]
  },
  {
   "cell_type": "code",
   "execution_count": 6,
   "metadata": {},
   "outputs": [],
   "source": [
    "from IPython.display import Image\n",
    "# Figure 3\n",
    "Image(url= \"https://www.cntk.ai/jup/logistic_neuron.jpg\", width=300, height=200)"
   ]
  },
  {
   "cell_type": "code",
   "execution_count": 9,
   "metadata": {},
   "outputs": [
    {
     "data": {
      "text/html": [
       "<img src=\"https://www.cntk.ai/jup/logistic_neuron.jpg\" width=\"300\" height=\"200\"/>"
      ],
      "text/plain": [
       "<IPython.core.display.Image object>"
      ]
     },
     "execution_count": 9,
     "metadata": {},
     "output_type": "execute_result"
    }
   ],
   "source": [
    "#Approach:\n",
    "#Learning algo has typically got 5 stages:\n",
    "    #1) Data Reading\n",
    "    #2)Data Preprocessing\n",
    "    #3)Creating a model\n",
    "    #4)learning the model parameters\n",
    "    #5)Evaluating the model(testing/prediction)   "
   ]
  },
  {
   "cell_type": "code",
   "execution_count": 10,
   "metadata": {},
   "outputs": [],
   "source": [
    "#import relevant components\n",
    "from __future__ import print_function\n",
    "import numpy as np\n",
    "import sys\n",
    "import os\n",
    "import cntk as C\n",
    "import cntk.tests.test_utils\n",
    "cntk.tests.test_utils.set_device_from_pytest_env() #only needed for our build systems\n",
    "C.cntk_py.set_fixed_random_seed(1) #fix the random seed so that the LR examples are repeatable"
   ]
  },
  {
   "cell_type": "code",
   "execution_count": 12,
   "metadata": {},
   "outputs": [],
   "source": [
    "#Data Generation: generate some synthetic data emulating the cancer example using the numpy library\n",
    "\n",
    "#Define the network\n",
    "input_dim=2\n",
    "num_output_classes=2"
   ]
  },
  {
   "cell_type": "code",
   "execution_count": 14,
   "metadata": {},
   "outputs": [],
   "source": [
    "#Ensure that we always the same result\n",
    "np.random.seed(0)\n",
    "\n",
    "#Helper function to generate random data sample\n",
    "def generate_random_data_sample(sample_size, feature_dim, num_classes):\n",
    "    #Create synthetic data using numpy\n",
    "    Y=np.random.randint(size=(sample_size,1), low=0, high=num_classes)\n",
    "    \n",
    "    #Make sure that teh data is separable\n",
    "    X= (np.random.randn(sample_size, feature_dim)+3)*(Y+1)\n",
    "    \n",
    "    #Specify the data type to match the input variable used later (default is double)\n",
    "    X=X.astype(np.float32)\n",
    "    \n",
    "    #Convert class 0 vector into \"1 0 0\", class vector 1 into '0 1 0', ...\n",
    "    class_ind=[Y==class_number for class_number in range(num_classes)]\n",
    "    Y=np.asarray(np.hstack(class_ind), dtype=np.float32)\n",
    "    return X, Y"
   ]
  },
  {
   "cell_type": "code",
   "execution_count": 19,
   "metadata": {},
   "outputs": [
    {
     "name": "stdout",
     "output_type": "stream",
     "text": [
      "[[1.9292474 4.054452 ]\n",
      " [5.193646  8.44489  ]\n",
      " [3.208275  3.976639 ]\n",
      " [3.3563664 3.7065732]\n",
      " [3.0105    4.7858706]\n",
      " [6.253824  6.803979 ]\n",
      " [4.8831506 1.652241 ]\n",
      " [1.729515  3.9693966]\n",
      " [3.6537533 9.887242 ]\n",
      " [2.586381  2.252545 ]\n",
      " [9.845884  8.96103  ]\n",
      " [4.867559  3.9060447]\n",
      " [2.1387744 4.910065 ]\n",
      " [5.463993  7.6049128]\n",
      " [7.894504  5.68998  ]\n",
      " [3.6140795 3.9222066]\n",
      " [3.3764255 1.9005992]\n",
      " [3.2982383 4.326386 ]\n",
      " [4.610864  5.700731 ]\n",
      " [5.129693  9.698527 ]\n",
      " [3.6722949 3.407462 ]\n",
      " [2.230084  3.5392492]\n",
      " [2.3256674 3.0318305]\n",
      " [2.3641539 3.6764333]\n",
      " [3.5765908 2.7917013]\n",
      " [6.7920136 3.8138769]\n",
      " [1.5087425 3.4393916]\n",
      " [6.333347  7.270063 ]\n",
      " [5.383145  3.9444795]\n",
      " [2.0871778 4.1170163]\n",
      " [1.6840926 2.5384154]\n",
      " [5.863517  9.426685 ]]\n",
      "[[1. 0.]\n",
      " [0. 1.]\n",
      " [1. 0.]\n",
      " [1. 0.]\n",
      " [1. 0.]\n",
      " [0. 1.]\n",
      " [1. 0.]\n",
      " [1. 0.]\n",
      " [0. 1.]\n",
      " [1. 0.]\n",
      " [0. 1.]\n",
      " [1. 0.]\n",
      " [1. 0.]\n",
      " [0. 1.]\n",
      " [0. 1.]\n",
      " [1. 0.]\n",
      " [1. 0.]\n",
      " [1. 0.]\n",
      " [0. 1.]\n",
      " [0. 1.]\n",
      " [1. 0.]\n",
      " [1. 0.]\n",
      " [1. 0.]\n",
      " [1. 0.]\n",
      " [1. 0.]\n",
      " [0. 1.]\n",
      " [1. 0.]\n",
      " [0. 1.]\n",
      " [1. 0.]\n",
      " [1. 0.]\n",
      " [1. 0.]\n",
      " [0. 1.]]\n"
     ]
    }
   ],
   "source": [
    "#Create the input variables denoting the features and input data. \n",
    "#Note: the input does not need additional info on the number of observations(samples) \n",
    "#since creates only the Network Topology first\n",
    "\n",
    "mysamplesize=32\n",
    "features, labels= generate_random_data_sample(mysamplesize, input_dim, num_output_classes)\n",
    "print(features)\n",
    "print(labels)"
   ]
  },
  {
   "cell_type": "code",
   "execution_count": 21,
   "metadata": {},
   "outputs": [
    {
     "data": {
      "text/plain": [
       "<function matplotlib.pyplot.show(*args, **kw)>"
      ]
     },
     "execution_count": 21,
     "metadata": {},
     "output_type": "execute_result"
    },
    {
     "data": {
      "image/png": "[encoded data removed]",
      "text/plain": [
       "<Figure size 432x288 with 1 Axes>"
      ]
     },
     "metadata": {},
     "output_type": "display_data"
    }
   ],
   "source": [
    "#Visualize the input data\n",
    "import matplotlib.pyplot as plt\n",
    "%matplotlib inline\n",
    "\n",
    "#let 0 represent malignant(red) and 1 represent benign(blue)\n",
    "colors=['r' if label==0 else 'b' for label in labels[:,0]]\n",
    "\n",
    "plt.scatter(features[:,0], features[:,1], c=colors)\n",
    "plt.xlabel(\"Age(scaled)\")\n",
    "plt.ylabel(\"Tumor size(in cm)\")\n",
    "plt.show    "
   ]
  },
  {
   "cell_type": "code",
   "execution_count": 22,
   "metadata": {},
   "outputs": [
    {
     "data": {
      "text/html": [
       "<img src=\"https://www.cntk.ai/jup/logistic_neuron2.jpg\" width=\"300\" height=\"200\"/>"
      ],
      "text/plain": [
       "<IPython.core.display.Image object>"
      ]
     },
     "execution_count": 22,
     "metadata": {},
     "output_type": "execute_result"
    }
   ],
   "source": [
    "#Model creation\n",
    "Image(url= \"https://www.cntk.ai/jup/logistic_neuron2.jpg\", width=300, height=200)\n",
    "\n",
    "#The computed evidence is mapped to a (0, 1) range using a sigmoid (when the outcome can be in one of two \n",
    "#possible classes) or a softmax function (when the outcome can be in one of more than two possible classes)"
   ]
  },
  {
   "cell_type": "code",
   "execution_count": 23,
   "metadata": {},
   "outputs": [],
   "source": [
    "feature=C.input_variable(input_dim, np.float32)"
   ]
  },
  {
   "cell_type": "code",
   "execution_count": 30,
   "metadata": {},
   "outputs": [],
   "source": [
    "#Network setup\n",
    "\n",
    "#Define a dictionary to store the model parameters\n",
    "mydict={}\n",
    "\n",
    "def linear_layer(input_var, output_dim):\n",
    "    input_dim=input_var.shape[0]\n",
    "    weight_param=C.parameter(shape=(input_dim, output_dim))\n",
    "    bias_param=C.parameter(shape=(output_dim))\n",
    "    \n",
    "    mydict['w'], mydict['b'] =weight_param, bias_param\n",
    "    \n",
    "    return C.times(input_var, weight_param) +bias_param"
   ]
  },
  {
   "cell_type": "code",
   "execution_count": 31,
   "metadata": {},
   "outputs": [],
   "source": [
    "output_dim=num_output_classes\n",
    "z=linear_layer(feature, output_dim)"
   ]
  },
  {
   "cell_type": "code",
   "execution_count": 33,
   "metadata": {},
   "outputs": [],
   "source": [
    "label=C.input_variable(num_output_classes, np.float32)\n",
    "loss=C.cross_entropy_with_softmax(z, label)"
   ]
  },
  {
   "cell_type": "code",
   "execution_count": 34,
   "metadata": {},
   "outputs": [],
   "source": [
    "#Evaluation\n",
    "eval_error=C.classification_error(z, label)"
   ]
  },
  {
   "cell_type": "code",
   "execution_count": 35,
   "metadata": {},
   "outputs": [],
   "source": [
    "#Instantiate the trainer object to drive the model training\n",
    "learning_rate=0.5\n",
    "lr_schedule=C.learning_rate_schedule(learning_rate, C.UnitType.minibatch)\n",
    "learner=C.sgd(z.parameters, lr_schedule)\n",
    "trainer=C.Trainer(z, (loss, eval_error), [learner])"
   ]
  },
  {
   "cell_type": "code",
   "execution_count": 45,
   "metadata": {},
   "outputs": [],
   "source": [
    "#Define a utility function to compute the moving average\n",
    "#A more efficient implementation is possible with np.cumsum() function\n",
    "\n",
    "def moving_average(a, w=10):\n",
    "    if len(a)<w:\n",
    "        return a[:]\n",
    "    return [val if idx<w else sum(a[(idx-w):idx])/w for idx, val in enumerate(a)]\n",
    "\n",
    "#Define utility that prints the training progress\n",
    "def print_training_progress(trainer, mb, frequency, verbose=1):\n",
    "    training_loss, eval_error=\"NA\", \"NA\"\n",
    "    \n",
    "    if mb % frequency ==0:\n",
    "        training_loss=trainer.previous_minibatch_loss_average\n",
    "        eval_error=trainer.previous_minibatch_evaluation_average\n",
    "        if verbose:\n",
    "            print(\" Minibatch: {0}, Loss: {1:.4f}, Error: {2:.2f}\".format(mb, training_loss, eval_error))\n",
    "    \n",
    "    return mb, training_loss, eval_error\n",
    " "
   ]
  },
  {
   "cell_type": "code",
   "execution_count": 46,
   "metadata": {},
   "outputs": [],
   "source": [
    "#Initialize the parameters for the trainer\n",
    "minibatch_size=25\n",
    "num_samples_to_train= 20000\n",
    "num_minibatches_to_train=int(num_samples_to_train/minibatch_size)"
   ]
  },
  {
   "cell_type": "code",
   "execution_count": 48,
   "metadata": {},
   "outputs": [
    {
     "name": "stdout",
     "output_type": "stream",
     "text": [
      " Minibatch: 0, Loss: 1.4134, Error: 0.48\n",
      " Minibatch: 10, Loss: 0.8933, Error: 0.52\n",
      " Minibatch: 20, Loss: 7.4533, Error: 0.52\n",
      " Minibatch: 30, Loss: 1.1670, Error: 0.44\n",
      " Minibatch: 40, Loss: 1.9671, Error: 0.36\n",
      " Minibatch: 50, Loss: 0.3032, Error: 0.16\n",
      " Minibatch: 60, Loss: 4.3625, Error: 0.44\n",
      " Minibatch: 70, Loss: 1.9847, Error: 0.56\n",
      " Minibatch: 80, Loss: 0.7009, Error: 0.32\n",
      " Minibatch: 90, Loss: 0.4212, Error: 0.12\n",
      " Minibatch: 100, Loss: 0.9012, Error: 0.44\n",
      " Minibatch: 110, Loss: 0.6770, Error: 0.24\n",
      " Minibatch: 120, Loss: 0.5506, Error: 0.16\n",
      " Minibatch: 130, Loss: 0.2169, Error: 0.08\n",
      " Minibatch: 140, Loss: 0.4115, Error: 0.16\n",
      " Minibatch: 150, Loss: 0.3882, Error: 0.12\n",
      " Minibatch: 160, Loss: 0.1898, Error: 0.04\n",
      " Minibatch: 170, Loss: 0.1464, Error: 0.04\n",
      " Minibatch: 180, Loss: 0.3273, Error: 0.08\n",
      " Minibatch: 190, Loss: 0.2661, Error: 0.12\n",
      " Minibatch: 200, Loss: 0.2048, Error: 0.08\n",
      " Minibatch: 210, Loss: 0.7793, Error: 0.16\n",
      " Minibatch: 220, Loss: 0.4957, Error: 0.24\n",
      " Minibatch: 230, Loss: 0.5229, Error: 0.16\n",
      " Minibatch: 240, Loss: 0.3188, Error: 0.12\n",
      " Minibatch: 250, Loss: 0.6290, Error: 0.28\n",
      " Minibatch: 260, Loss: 0.1072, Error: 0.08\n",
      " Minibatch: 270, Loss: 0.2157, Error: 0.08\n",
      " Minibatch: 280, Loss: 0.5517, Error: 0.28\n",
      " Minibatch: 290, Loss: 0.2649, Error: 0.12\n",
      " Minibatch: 300, Loss: 0.6138, Error: 0.16\n",
      " Minibatch: 310, Loss: 0.0978, Error: 0.04\n",
      " Minibatch: 320, Loss: 0.2428, Error: 0.08\n",
      " Minibatch: 330, Loss: 0.3570, Error: 0.08\n",
      " Minibatch: 340, Loss: 0.0734, Error: 0.00\n",
      " Minibatch: 350, Loss: 0.3436, Error: 0.20\n",
      " Minibatch: 360, Loss: 0.5807, Error: 0.20\n",
      " Minibatch: 370, Loss: 0.0824, Error: 0.04\n",
      " Minibatch: 380, Loss: 0.2730, Error: 0.20\n",
      " Minibatch: 390, Loss: 0.0462, Error: 0.00\n",
      " Minibatch: 400, Loss: 0.0844, Error: 0.08\n",
      " Minibatch: 410, Loss: 0.2601, Error: 0.12\n",
      " Minibatch: 420, Loss: 0.4514, Error: 0.28\n",
      " Minibatch: 430, Loss: 0.4533, Error: 0.16\n",
      " Minibatch: 440, Loss: 0.0598, Error: 0.04\n",
      " Minibatch: 450, Loss: 0.6909, Error: 0.28\n",
      " Minibatch: 460, Loss: 0.2437, Error: 0.08\n",
      " Minibatch: 470, Loss: 0.2515, Error: 0.12\n",
      " Minibatch: 480, Loss: 0.0892, Error: 0.04\n",
      " Minibatch: 490, Loss: 0.3488, Error: 0.12\n",
      " Minibatch: 500, Loss: 0.7380, Error: 0.20\n",
      " Minibatch: 510, Loss: 0.2859, Error: 0.16\n",
      " Minibatch: 520, Loss: 0.3878, Error: 0.12\n",
      " Minibatch: 530, Loss: 0.4002, Error: 0.16\n",
      " Minibatch: 540, Loss: 0.2423, Error: 0.16\n",
      " Minibatch: 550, Loss: 0.3654, Error: 0.08\n",
      " Minibatch: 560, Loss: 0.4169, Error: 0.08\n",
      " Minibatch: 570, Loss: 0.0701, Error: 0.00\n",
      " Minibatch: 580, Loss: 0.2899, Error: 0.16\n",
      " Minibatch: 590, Loss: 0.8632, Error: 0.20\n",
      " Minibatch: 600, Loss: 0.5654, Error: 0.16\n",
      " Minibatch: 610, Loss: 0.0388, Error: 0.00\n",
      " Minibatch: 620, Loss: 0.2323, Error: 0.16\n",
      " Minibatch: 630, Loss: 0.1888, Error: 0.08\n",
      " Minibatch: 640, Loss: 0.4206, Error: 0.20\n",
      " Minibatch: 650, Loss: 0.4353, Error: 0.16\n",
      " Minibatch: 660, Loss: 0.4386, Error: 0.16\n",
      " Minibatch: 670, Loss: 0.1410, Error: 0.08\n",
      " Minibatch: 680, Loss: 0.0722, Error: 0.04\n",
      " Minibatch: 690, Loss: 0.6882, Error: 0.16\n",
      " Minibatch: 700, Loss: 2.6962, Error: 0.52\n",
      " Minibatch: 710, Loss: 0.4468, Error: 0.12\n",
      " Minibatch: 720, Loss: 0.3880, Error: 0.08\n",
      " Minibatch: 730, Loss: 0.0372, Error: 0.00\n",
      " Minibatch: 740, Loss: 0.2712, Error: 0.20\n",
      " Minibatch: 750, Loss: 0.0697, Error: 0.00\n",
      " Minibatch: 760, Loss: 0.3101, Error: 0.12\n",
      " Minibatch: 770, Loss: 0.2966, Error: 0.16\n",
      " Minibatch: 780, Loss: 0.1057, Error: 0.00\n",
      " Minibatch: 790, Loss: 0.1061, Error: 0.04\n"
     ]
    }
   ],
   "source": [
    "from collections import defaultdict\n",
    "\n",
    "#Run the trainer and perform model training\n",
    "training_progress_output_freq=10\n",
    "plotdata=defaultdict(list)\n",
    "\n",
    "for i in range(0, num_minibatches_to_train):\n",
    "    features, labels=generate_random_data_sample(minibatch_size, input_dim, num_output_classes)\n",
    "    \n",
    "    #Assign the minibatch data to the input variables and train the model on minibatch\n",
    "    trainer.train_minibatch({feature: features, label: labels})\n",
    "    batchsize, loss, error=print_training_progress(trainer, i, training_progress_output_freq, verbose=1)\n",
    "    \n",
    "    if not (loss==\"NA\" or error== \"NA\"):\n",
    "        plotdata[\"batchsize\"].append(batchsize)\n",
    "        plotdata[\"loss\"].append(loss)\n",
    "        plotdata[\"error\"].append(error)"
   ]
  },
  {
   "cell_type": "code",
   "execution_count": 52,
   "metadata": {},
   "outputs": [
    {
     "data": {
      "image/png": "[encoded data removed]",
      "text/plain": [
       "<Figure size 432x288 with 1 Axes>"
      ]
     },
     "metadata": {},
     "output_type": "display_data"
    },
    {
     "data": {
      "image/png": "[encoded data removed]",
      "text/plain": [
       "<Figure size 432x288 with 1 Axes>"
      ]
     },
     "metadata": {},
     "output_type": "display_data"
    }
   ],
   "source": [
    "#Compute the moving average loss to smooth out the noise in SGD\n",
    "plotdata[\"avgloss\"]=moving_average(plotdata[\"loss\"])\n",
    "plotdata[\"avgerror\"]=moving_average(plotdata[\"error\"])\n",
    "\n",
    "#Plot the training loss and training error\n",
    "import matplotlib.pyplot as plt\n",
    "\n",
    "plt.figure(1)\n",
    "plt.subplot(211)\n",
    "plt.plot(plotdata[\"batchsize\"], plotdata[\"avgloss\"], 'b--')\n",
    "plt.xlabel(\"Mini Batch Number\")\n",
    "plt.ylabel(\"Loss\")\n",
    "plt.title(\"Mini batch Run vs. Training Loss\")\n",
    "plt.show()\n",
    "\n",
    "plt.subplot(211)\n",
    "plt.plot(plotdata[\"batchsize\"], plotdata[\"avgerror\"], 'r--')\n",
    "plt.xlabel(\"Mini Batch Number\")\n",
    "plt.ylabel(\"Error\")\n",
    "plt.title(\"Mini batch Run vs. Label Prediction Error\")\n",
    "plt.show()\n",
    "\n",
    "\n"
   ]
  },
  {
   "cell_type": "code",
   "execution_count": 55,
   "metadata": {},
   "outputs": [
    {
     "data": {
      "text/plain": [
       "0.08"
      ]
     },
     "execution_count": 55,
     "metadata": {},
     "output_type": "execute_result"
    }
   ],
   "source": [
    "#Run the train model on a newly generated dataset\n",
    "test_minibatch_size=25\n",
    "features, labels=generate_random_data_sample(test_minibatch_size, input_dim, num_output_classes)\n",
    "\n",
    "trainer.test_minibatch({feature:features, label: labels})"
   ]
  },
  {
   "cell_type": "code",
   "execution_count": 56,
   "metadata": {},
   "outputs": [],
   "source": [
    "#Checking prediction / evaluation\n",
    "out= C.softmax(z)\n",
    "result=out.eval({feature:features})\n"
   ]
  },
  {
   "cell_type": "code",
   "execution_count": 59,
   "metadata": {},
   "outputs": [
    {
     "name": "stdout",
     "output_type": "stream",
     "text": [
      "Label:      [1, 1, 1, 0, 1, 1, 0, 1, 1, 0, 0, 0, 0, 0, 0, 1, 0, 1, 1, 1, 1, 1, 0, 0, 1]\n",
      "Predicted:  [1, 1, 1, 0, 1, 1, 1, 1, 1, 0, 0, 0, 0, 0, 1, 1, 0, 1, 1, 1, 1, 1, 0, 0, 1]\n"
     ]
    }
   ],
   "source": [
    "print(\"Label:     \", [np.argmax(label) for label in labels])\n",
    "print(\"Predicted: \", [np.argmax(x) for x in result])"
   ]
  },
  {
   "cell_type": "code",
   "execution_count": 61,
   "metadata": {},
   "outputs": [
    {
     "name": "stdout",
     "output_type": "stream",
     "text": [
      "[ 7.9521217 -7.9521227]\n"
     ]
    },
    {
     "data": {
      "image/png": "[encoded data removed]",
      "text/plain": [
       "<Figure size 432x288 with 1 Axes>"
      ]
     },
     "metadata": {},
     "output_type": "display_data"
    }
   ],
   "source": [
    "#Visualization\n",
    "\n",
    "#Model parameters\n",
    "print(mydict['b'].value)\n",
    "\n",
    "bias_vector=mydict['b'].value\n",
    "weight_matrix=mydict['w'].value\n",
    "\n",
    "#Plot the data\n",
    "#0 represent malignant(red) and 1 represent benign(blue)\n",
    "colors=['r' if label==0 else 'b'  for label in labels[:,0]]\n",
    "plt.scatter(features[:,0], features[:,1], c=colors)\n",
    "plt.plot([0, bias_vector[0]/weight_matrix[0][1]],\n",
    "         [bias_vector[1]/weight_matrix[0][0],0], c='g', lw=3)\n",
    "\n",
    "plt.xlabel(\"Patient Age(scaled)\")\n",
    "plt.ylabel(\"Tumor size(in cm)\")\n",
    "plt.show()\n",
    "\n",
    "          \n",
    "          \n",
    "          \n",
    "          "
   ]
  },
  {
   "cell_type": "code",
   "execution_count": null,
   "metadata": {},
   "outputs": [],
   "source": []
  }
 ],
 "metadata": {
  "kernelspec": {
   "display_name": "Python 3",
   "language": "python",
   "name": "python3"
  },
  "language_info": {
   "codemirror_mode": {
    "name": "ipython",
    "version": 3
   },
   "file_extension": ".py",
   "mimetype": "text/x-python",
   "name": "python",
   "nbconvert_exporter": "python",
   "pygments_lexer": "ipython3",
   "version": "3.6.5"
  }
 },
 "nbformat": 4,
 "nbformat_minor": 2
}
