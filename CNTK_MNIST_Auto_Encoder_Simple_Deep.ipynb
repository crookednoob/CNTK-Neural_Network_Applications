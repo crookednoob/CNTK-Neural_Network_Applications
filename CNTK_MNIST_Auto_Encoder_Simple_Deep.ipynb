{
 "cells": [
  {
   "cell_type": "code",
   "execution_count": 1,
   "metadata": {},
   "outputs": [],
   "source": [
    "#CNTK : Basic AutoEncoders(AE) with MNIST Data\n",
    "\n",
    "#An autoencoder is an artificial neural network used for unsupervised learning of efficient encodings. \n",
    "#In other words, they are used for lossy data-specific compression that is learnt automatically instead \n",
    "#of relying on human engineered features. The aim of an autoencoder is to learn a representation (encoding) \n",
    "#for a set of data, typically for the purpose of dimensionality reduction.\n",
    "\n",
    "#The autoencoders are very specific to the data-set on hand and are different from standard codecs such as \n",
    "#JPEG, MPEG standard based encodings. Once the information is encoded and decoded back to original dimensions \n",
    "#some amount of information is lost in the process. Given these encodings are specific to data, autoencoders \n",
    "#are not used for compression. However, there are two areas where autoencoders have been found very effective: \n",
    "#denoising and dimensionality reduction.\n",
    "\n",
    "#Autoencoders have attracted attention since they have long been thought to be a potential approach for \n",
    "#unsupervised learning. Truly unsupervised approaches involve learning useful representations without \n",
    "#the need for labels. Autoencoders fall under self-supervised learning, a specific instance of supervised \n",
    "#learning where the targets are generated from the input data.\n",
    "\n",
    "#GOAL - \n",
    "#Our goal is to train an autoencoder that compresses MNIST digits image to a vector of smaller dimension \n",
    "#and then restores the image. The MNIST data comprises of hand-written digits with little background noise."
   ]
  },
  {
   "cell_type": "code",
   "execution_count": 2,
   "metadata": {},
   "outputs": [
    {
     "data": {
      "text/html": [
       "<img src=\"http://cntk.ai/jup/MNIST-image.jpg\" width=\"300\" height=\"300\"/>"
      ],
      "text/plain": [
       "<IPython.core.display.Image object>"
      ]
     },
     "execution_count": 2,
     "metadata": {},
     "output_type": "execute_result"
    }
   ],
   "source": [
    "from IPython.display import Image\n",
    "\n",
    "# Figure 1\n",
    "Image(url=\"http://cntk.ai/jup/MNIST-image.jpg\", width=300, height=300)"
   ]
  },
  {
   "cell_type": "code",
   "execution_count": 3,
   "metadata": {},
   "outputs": [],
   "source": [
    "#Import the relevant modules\n",
    "from __future__ import print_function\n",
    "import matplotlib.pyplot as plt\n",
    "import os\n",
    "import sys\n",
    "import numpy as np\n",
    "import cntk as C\n",
    "import cntk.tests.test_utils\n",
    "cntk.tests.test_utils.set_device_from_pytest_env()\n",
    "C.cntk_py.set_fixed_random_seed(1)\n",
    "\n",
    "%matplotlib inline"
   ]
  },
  {
   "cell_type": "code",
   "execution_count": 4,
   "metadata": {},
   "outputs": [],
   "source": [
    "isFast=True"
   ]
  },
  {
   "cell_type": "code",
   "execution_count": 5,
   "metadata": {},
   "outputs": [],
   "source": [
    "# Read a CTF formatted text using the CTF deserializer from a file\n",
    "def create_reader(path, is_training, input_dim, num_label_classes):\n",
    "    return C.io.MinibatchSource(C.io.CTFDeserializer(path, C.io.StreamDefs(\n",
    "        labels_viz = C.io.StreamDef(field='labels', shape=num_label_classes, is_sparse=False),\n",
    "        features   = C.io.StreamDef(field='features', shape=input_dim, is_sparse=False)\n",
    "    )), randomize = is_training, max_sweeps = C.io.INFINITELY_REPEAT if is_training else 1)"
   ]
  },
  {
   "cell_type": "code",
   "execution_count": 6,
   "metadata": {},
   "outputs": [
    {
     "name": "stdout",
     "output_type": "stream",
     "text": [
      "Data directory is data\\MNIST\n"
     ]
    }
   ],
   "source": [
    "# We search in two locations in the toolkit for the cached MNIST data set.\n",
    "data_found = False\n",
    "for data_dir in [os.path.join(\"..\", \"Examples\", \"Image\", \"DataSets\", \"MNIST\"),\n",
    "                 os.path.join(\"data\", \"MNIST\")]:\n",
    "    train_file = os.path.join(data_dir, \"Train-28x28_cntk_text.txt\")\n",
    "    test_file = os.path.join(data_dir, \"Test-28x28_cntk_text.txt\")\n",
    "    if os.path.isfile(train_file) and os.path.isfile(test_file):\n",
    "        data_found = True\n",
    "        break\n",
    "\n",
    "if not data_found:\n",
    "    raise ValueError(\"Please generate the data by completing CNTK 103 Part A\")\n",
    "print(\"Data directory is {0}\".format(data_dir))"
   ]
  },
  {
   "cell_type": "code",
   "execution_count": 7,
   "metadata": {},
   "outputs": [
    {
     "data": {
      "text/html": [
       "<img src=\"http://cntk.ai/jup/SimpleAEfig.jpg\" width=\"200\" height=\"200\"/>"
      ],
      "text/plain": [
       "<IPython.core.display.Image object>"
      ]
     },
     "execution_count": 7,
     "metadata": {},
     "output_type": "execute_result"
    }
   ],
   "source": [
    "#Model Creation -- Simple AE\n",
    "# Figure 2\n",
    "Image(url=\"http://cntk.ai/jup/SimpleAEfig.jpg\", width=200, height=200)"
   ]
  },
  {
   "cell_type": "code",
   "execution_count": 8,
   "metadata": {},
   "outputs": [],
   "source": [
    "input_dim=784\n",
    "encoding_dim=32\n",
    "output_dim=input_dim\n",
    "\n",
    "def create_model(features):\n",
    "    with C.layers.default_options(init=C.glorot_uniform()):\n",
    "        #We scale the input pixel to 0-1 range\n",
    "        encode=C.layers.Dense(encoding_dim, activation=C.relu)(features/255.0)\n",
    "        decode=C.layers.Dense(input_dim, activation=C.sigmoid)(encode)\n",
    "        \n",
    "    return decode\n",
    "    "
   ]
  },
  {
   "cell_type": "code",
   "execution_count": 9,
   "metadata": {},
   "outputs": [],
   "source": [
    "#Train and Test the model\n",
    "\n",
    "def train_and_test(reader_train, reader_test, model_func):\n",
    "    \n",
    "    ###########################\n",
    "    #Training Model\n",
    "    ###########################\n",
    "    \n",
    "    #Instantiate the input and label variables\n",
    "    input=C.input_variable(input_dim)\n",
    "    label=C.input_variable(input_dim)\n",
    "    \n",
    "    #Create the model func\n",
    "    model=model_func(input)\n",
    "    \n",
    "    #The labels for this network is same as the MNIST image\n",
    "    #Note: Inside the model we are scaling the input to 0-1 range\n",
    "    #Hence we rescale the label to the same range\n",
    "    #Will show how to use custom loss function\n",
    "    #loss = -(y*log(p) + (1-y)*log(1-p)) where p= model output and y= target\n",
    "    #We have normalized the input between 0-1. We are scaling the target to same range\n",
    "    \n",
    "    target=label/255.0\n",
    "    loss=-(target*C.log(model) + (1-target)*C.log(1-model))\n",
    "    label_error=C.classification_error(model, target)\n",
    "    \n",
    "    #training config\n",
    "    epoch_size=30000 #It is half the dataset size\n",
    "    minibatch_size=64\n",
    "    num_sweeps_to_train_with=5 if isFast else 100\n",
    "    num_samples_per_sweep= 60000\n",
    "    num_minibatches_to_train= (num_samples_per_sweep*num_sweeps_to_train_with)//minibatch_size\n",
    "    \n",
    "    #Instantiate the  trainer object to drive teh model training\n",
    "    lr_per_sample = [0.00003]\n",
    "    lr_schedule = C.learning_parameter_schedule_per_sample(lr_per_sample, epoch_size)\n",
    "    \n",
    "    #Momentum which is applied on every minibatch size = 64 samples\n",
    "    momentum_schedule=C.momentum_schedule(0.9126265014311797, minibatch_size)\n",
    "    \n",
    "    #We are using a variant of Adam optimizer which is known to work well on this dataset\n",
    "    learner= C.fsadagrad(model.parameters, lr=lr_schedule, momentum=momentum_schedule)\n",
    "    \n",
    "    #Instantiate the trainer\n",
    "    progress_printer=C.logging.ProgressPrinter(0)\n",
    "    trainer=C.Trainer(model, (loss, label_error), learner, progress_printer)\n",
    "    \n",
    "    #Map the data streams to the input and labels\n",
    "    #Note: For AutoEncoders, input=label\n",
    "    input_map={\n",
    "        input : reader_train.streams.features,\n",
    "        label : reader_train.streams.features\n",
    "    }\n",
    "    \n",
    "    aggregate_metric=0\n",
    "    for i in range (num_minibatches_to_train):\n",
    "        #Read a minibatch from the training data file\n",
    "        data=reader_train.next_minibatch(minibatch_size, input_map= input_map)\n",
    "        \n",
    "        #Run the trainer on and perform model training\n",
    "        trainer.train_minibatch(data)\n",
    "        samples=trainer.previous_minibatch_sample_count\n",
    "        aggregate_metric+= trainer.previous_minibatch_evaluation_average*samples\n",
    "        \n",
    "    train_error=(aggregate_metric*100.0)/(trainer.total_number_of_samples_seen)\n",
    "    print(\"Average Training Error: {0:0.2f}%\".format(train_error))\n",
    "    \n",
    "    ##############################################################################\n",
    "    #Testing the model\n",
    "    #Note: We use a test file reader to read data different from a training data\n",
    "    ##############################################################################\n",
    "    \n",
    "    #Test data for trained model\n",
    "    test_minibatch_size=32\n",
    "    num_samples=10000\n",
    "    num_minibatches_to_test=num_samples/test_minibatch_size\n",
    "    test_result = 0.0\n",
    "    \n",
    "    #Test error metric calculation\n",
    "    metric_numer=0\n",
    "    metric_denom=0\n",
    "    \n",
    "    test_input_map= {\n",
    "        input : reader_test.streams.features,\n",
    "        label : reader_test.streams.features\n",
    "    }\n",
    "    \n",
    "    for i in range (0, int(num_minibatches_to_test)):\n",
    "        \n",
    "        #We are loading the test data in batches specified by the test_minibatch_size\n",
    "        #Each data point in a minibatch is a MNIST image of 784 dimensions\n",
    "        #with one pixel per dimension taht will encode/ decode with the trained model\n",
    "        \n",
    "        data = reader_test.next_minibatch(test_minibatch_size, input_map=test_input_map)\n",
    "        \n",
    "        #Specifying the  mapping of input variables in the model to the actual minibatch data to be tested with\n",
    "        eval_error=trainer.test_minibatch(data)\n",
    "        \n",
    "        #minibatch data to be trained with\n",
    "        metric_numer+=np.abs(eval_error*test_minibatch_size)\n",
    "        metric_denom+=test_minibatch_size\n",
    "        \n",
    "    #Average of evaluation errors  of all test minibatches\n",
    "    test_error= (metric_numer*100.0)/ (metric_denom)\n",
    "    print(\"Average test error: {0:0.2f}%\".format(test_error))\n",
    "    \n",
    "    return model, train_error, test_error\n"
   ]
  },
  {
   "cell_type": "code",
   "execution_count": 10,
   "metadata": {},
   "outputs": [
    {
     "name": "stderr",
     "output_type": "stream",
     "text": [
      "C:\\ProgramData\\Anaconda3\\lib\\site-packages\\cntk\\learners\\__init__.py:340: RuntimeWarning: When providing the schedule as a number, epoch_size is ignored\n",
      "  warnings.warn('When providing the schedule as a number, epoch_size is ignored', RuntimeWarning)\n"
     ]
    },
    {
     "name": "stdout",
     "output_type": "stream",
     "text": [
      " average      since    average      since      examples\n",
      "    loss       last     metric       last              \n",
      " ------------------------------------------------------\n",
      "Learning rate per 1 samples: 3e-05\n",
      "      544        544      0.877      0.877            64\n",
      "      544        544      0.866       0.86           192\n",
      "      544        543      0.869      0.871           448\n",
      "      542        541      0.869      0.868           960\n",
      "      538        533       0.84      0.813          1984\n",
      "      496        455      0.731      0.625          4032\n",
      "      385        276      0.566      0.404          8128\n",
      "      303        221       0.44      0.315         16320\n",
      "      250        197      0.341      0.242         32704\n",
      "      208        167      0.258      0.175         65472\n",
      "      173        138      0.183      0.107        131008\n",
      "      142        110      0.116     0.0495        262080\n",
      "Average Training Error: 10.57%\n",
      "Average test error: 3.04%\n"
     ]
    }
   ],
   "source": [
    "num_label_classes=10\n",
    "reader_train=create_reader(train_file, True, input_dim, num_label_classes)\n",
    "reader_test=create_reader(test_file, False, input_dim, num_label_classes)\n",
    "model, simple_ae_train_error, simple_ae_test_error= train_and_test(reader_train, reader_test, model_func=create_model)"
   ]
  },
  {
   "cell_type": "code",
   "execution_count": 11,
   "metadata": {},
   "outputs": [
    {
     "name": "stdout",
     "output_type": "stream",
     "text": [
      "Original Image Statistics: \n",
      "Max: 255.00, Median: 0.00, Mean: 24.07, Min: 0.00\n",
      "Decoded Image Statistics: \n",
      "Max: 251.79, Median: 0.43, Mean: 26.11, Min: 0.00\n"
     ]
    }
   ],
   "source": [
    "#Visualize simple AE results\n",
    "\n",
    "#Read some data to run the evaluation\n",
    "num_label_classes=10\n",
    "reader_eval= create_reader(test_file, False, input_dim, num_label_classes)\n",
    "\n",
    "eval_minibatch_size=50\n",
    "eval_input_map = { input : reader_eval.streams.features}\n",
    "\n",
    "eval_data=reader_eval.next_minibatch(eval_minibatch_size, input_map=eval_input_map)\n",
    "\n",
    "img_data= eval_data[input].asarray()\n",
    "\n",
    "#select a random image\n",
    "np.random.seed(0)\n",
    "idx=np.random.choice(eval_minibatch_size)\n",
    "\n",
    "orig_image= img_data[idx, :,:]\n",
    "decoded_image= model.eval(orig_image)[0]*255\n",
    "\n",
    "#Print image statistics\n",
    "def print_img_stats(img, text):\n",
    "    print(text)\n",
    "    print(\"Max: {0:.2f}, Median: {1:.2f}, Mean: {2:.2f}, Min: {3:.2f}\".format(np.max(img), np.median(img),\n",
    "                                                                             np.mean(img), np.min(img)))\n",
    "    \n",
    "#print original image\n",
    "print_img_stats(orig_image, \"Original Image Statistics: \")\n",
    "\n",
    "#print decoded image\n",
    "print_img_stats(decoded_image, \"Decoded Image Statistics: \")\n",
    "\n"
   ]
  },
  {
   "cell_type": "code",
   "execution_count": 12,
   "metadata": {},
   "outputs": [],
   "source": [
    "#Plot the original and decoded image\n",
    "\n",
    "#Define a helper function to plot the images\n",
    "def plot_image_pair(img1, text1, img2, text2):\n",
    "    fig, axes = plt.subplots(nrows=1, ncols=2, figsize=(6,6))\n",
    "    \n",
    "    axes[0].imshow(img1, cmap=\"gray\")\n",
    "    axes[0].set_title(text1)\n",
    "    axes[0].axis(\"off\")\n",
    "    \n",
    "    axes[1].imshow(img2, cmap=\"gray\")\n",
    "    axes[1].set_title(text2)\n",
    "    axes[1].axis(\"off\")"
   ]
  },
  {
   "cell_type": "code",
   "execution_count": 13,
   "metadata": {},
   "outputs": [
    {
     "data": {
      "image/png": "[encoded data removed]",
      "text/plain": [
       "<Figure size 432x432 with 2 Axes>"
      ]
     },
     "metadata": {},
     "output_type": "display_data"
    }
   ],
   "source": [
    "img1= orig_image.reshape(28,28)\n",
    "text1=\"Original Image\"\n",
    "\n",
    "img2=decoded_image.reshape(28,28)\n",
    "text2=\"Decoded Image\"\n",
    "\n",
    "plot_image_pair(img1, text1, img2, text2)"
   ]
  },
  {
   "cell_type": "code",
   "execution_count": 14,
   "metadata": {},
   "outputs": [
    {
     "data": {
      "text/html": [
       "<img src=\"http://cntk.ai/jup/DeepAEfig.jpg\" width=\"500\" height=\"300\"/>"
      ],
      "text/plain": [
       "<IPython.core.display.Image object>"
      ]
     },
     "execution_count": 14,
     "metadata": {},
     "output_type": "execute_result"
    }
   ],
   "source": [
    "#Model Creation -- Deep AE\n",
    "\n",
    "# Figure 3\n",
    "Image(url=\"http://cntk.ai/jup/DeepAEfig.jpg\", width=500, height=300)"
   ]
  },
  {
   "cell_type": "code",
   "execution_count": 15,
   "metadata": {},
   "outputs": [],
   "source": [
    "input_dim=784\n",
    "encoding_dims=[128, 64, 32]\n",
    "decoding_dims=[64, 128]\n",
    "\n",
    "encoded_model= None\n",
    "\n",
    "def create_deep_model(features):\n",
    "    with C.layers.default_options(init= C.layers.glorot_uniform()):\n",
    "        encode= C.element_times(C.constant(1.0/255.0), features)\n",
    "        \n",
    "        for encoding_dim in encoding_dims:\n",
    "            encode= C.layers.Dense(encoding_dim, activation=C.relu)(encode)\n",
    "            \n",
    "        global encoded_model\n",
    "        encoded_model= encode\n",
    "        \n",
    "        decode=encode\n",
    "        for decoding_dim in decoding_dims:\n",
    "            decode = C.layers.Dense(decoding_dim, activation=C.relu)(decode)\n",
    "            \n",
    "        decode = C.layers.Dense(input_dim, activation=C.sigmoid)(decode)\n",
    "        \n",
    "        return decode\n",
    "    "
   ]
  },
  {
   "cell_type": "code",
   "execution_count": 16,
   "metadata": {},
   "outputs": [
    {
     "name": "stderr",
     "output_type": "stream",
     "text": [
      "C:\\ProgramData\\Anaconda3\\lib\\site-packages\\cntk\\learners\\__init__.py:340: RuntimeWarning: When providing the schedule as a number, epoch_size is ignored\n",
      "  warnings.warn('When providing the schedule as a number, epoch_size is ignored', RuntimeWarning)\n"
     ]
    },
    {
     "name": "stdout",
     "output_type": "stream",
     "text": [
      " average      since    average      since      examples\n",
      "    loss       last     metric       last              \n",
      " ------------------------------------------------------\n",
      "Learning rate per 1 samples: 3e-05\n",
      "      544        544       0.75       0.75            64\n",
      "      544        544      0.771      0.781           192\n",
      "      544        543       0.78      0.786           448\n",
      "      543        542      0.789      0.797           960\n",
      "      530        518      0.863      0.933          1984\n",
      "      415        303       0.77      0.679          4032\n",
      "      315        216      0.624       0.48          8128\n",
      "      258        203        0.5      0.376         16320\n",
      "      215        171      0.367      0.234         32704\n",
      "      176        137      0.251      0.136         65472\n",
      "      145        114      0.165     0.0791        131008\n",
      "      122       98.7      0.107     0.0483        262080\n",
      "Average Training Error: 9.80%\n",
      "Average test error: 3.17%\n"
     ]
    }
   ],
   "source": [
    "num_label_classes = 10\n",
    "reader_train = create_reader(train_file, True, input_dim, num_label_classes)\n",
    "reader_test = create_reader(test_file, False, input_dim, num_label_classes)\n",
    "\n",
    "model, deep_ae_train_error, deep_ae_test_error = train_and_test(reader_train,\n",
    "                                                                reader_test,\n",
    "                                                                model_func = create_deep_model)"
   ]
  },
  {
   "cell_type": "code",
   "execution_count": 17,
   "metadata": {},
   "outputs": [
    {
     "name": "stdout",
     "output_type": "stream",
     "text": [
      "Original Image Statistics: \n",
      "Max: 255.00, Median: 0.00, Mean: 24.07, Min: 0.00\n",
      "Decoded Image Statistics: \n",
      "Max: 249.46, Median: 0.03, Mean: 23.85, Min: 0.00\n"
     ]
    }
   ],
   "source": [
    "#Visualize Deep AE results\n",
    "\n",
    "#Run the same image as the simple autoencoder through the deep encoder\n",
    "orig_image= img_data[idx, :, :]\n",
    "decoded_image=model.eval(orig_image)[0]*255\n",
    "\n",
    "#Print image statistics\n",
    "def print_img_stats(img, text):\n",
    "    print(text)\n",
    "    print(\"Max: {0:.2f}, Median: {1:.2f}, Mean: {2:.2f}, Min: {3:.2f}\".format(np.max(img), np.median(img),\n",
    "                                                                             np.mean(img), np.min(img)))\n",
    "    \n",
    "#print original image\n",
    "print_img_stats(orig_image, \"Original Image Statistics: \")\n",
    "\n",
    "#print decoded image\n",
    "print_img_stats(decoded_image, \"Decoded Image Statistics: \")\n"
   ]
  },
  {
   "cell_type": "code",
   "execution_count": 18,
   "metadata": {},
   "outputs": [],
   "source": [
    "#Plot the original and decoded image\n",
    "\n",
    "#Define a helper function to plot the images\n",
    "def plot_image_pair(img1, text1, img2, text2):\n",
    "    fig, axes = plt.subplots(nrows=1, ncols=2, figsize=(6,6))\n",
    "    \n",
    "    axes[0].imshow(img1, cmap=\"gray\")\n",
    "    axes[0].set_title(text1)\n",
    "    axes[0].axis(\"off\")\n",
    "    \n",
    "    axes[1].imshow(img2, cmap=\"gray\")\n",
    "    axes[1].set_title(text2)\n",
    "    axes[1].axis(\"off\")"
   ]
  },
  {
   "cell_type": "code",
   "execution_count": 19,
   "metadata": {},
   "outputs": [
    {
     "data": {
      "image/png": "[encoded data removed]",
      "text/plain": [
       "<Figure size 432x432 with 2 Axes>"
      ]
     },
     "metadata": {},
     "output_type": "display_data"
    }
   ],
   "source": [
    "# Plot the original and the decoded image\n",
    "img1 = orig_image.reshape(28,28)\n",
    "text1 = 'Original image'\n",
    "\n",
    "img2 = decoded_image.reshape(28,28)\n",
    "text2 = 'Decoded image'\n",
    "\n",
    "plot_image_pair(img1, text1, img2, text2)"
   ]
  },
  {
   "cell_type": "code",
   "execution_count": 24,
   "metadata": {},
   "outputs": [],
   "source": [
    "#we will explore how we can compare one to another and also show how to extract an encoded input for a given input. \n",
    "#For visualizing high dimension data in 2D, t-SNE (t-distributed Stochastic Neighbor Embedding) \n",
    "#is probably one of the best methods. However, it typically requires relatively low-dimensional data. \n",
    "#So a good strategy for visualizing similarity relationships in high-dimensional data is to encode data into \n",
    "#a low-dimensional space (e.g. 32 dimensional) using an autoencoder first, extract the encoding of the input \n",
    "#data followed by using t-SNE for mapping the compressed data to a 2D plane.\n",
    "\n",
    "#We will use the deep autoencoder outputs to: - Compare two images and - Show how we can retrieve an encoded (compressed) data.\n",
    "\n",
    "#t-SNE is a tool to visualize high-dimensional data. It converts similarities between data points to joint probabilities \n",
    "#and tries to minimize the Kullback-Leibler divergence between the joint probabilities of the low-dimensional embedding \n",
    "#and the high-dimensional data. t-SNE has a cost function that is not convex, i.e. with different initializations we \n",
    "#can get different results.\n",
    "\n",
    "#Read some data to get the image data and corresponding labels\n",
    "num_label_classes=10\n",
    "reader_viz=create_reader(test_file, False, input_dim, num_label_classes)\n",
    "\n",
    "image=  C.input_variable(input_dim)\n",
    "image_label = C.input_variable(num_label_classes)\n",
    "\n",
    "viz_minibatch_size=50\n",
    "\n",
    "viz_input_map={\n",
    "    image : reader_viz.streams.features,\n",
    "    image_label : reader_viz.streams.labels_viz\n",
    "}\n",
    "\n",
    "viz_data=reader_eval.next_minibatch(viz_minibatch_size, input_map=viz_input_map)\n",
    "\n",
    "img_data= viz_data[image].asarray()\n",
    "imglabel_raw= viz_data[image_label].asarray()"
   ]
  },
  {
   "cell_type": "code",
   "execution_count": 25,
   "metadata": {},
   "outputs": [
    {
     "name": "stdout",
     "output_type": "stream",
     "text": [
      "1: [7, 35, 37, 43, 45]\n",
      "3: [12, 42]\n",
      "9: [4, 5, 8, 13, 18, 25]\n"
     ]
    }
   ],
   "source": [
    "#Map the image labels into indices in the minibatch array\n",
    "img_labels= [np.argmax(imglabel_raw[i,:,:]) for i in range(0, imglabel_raw.shape[0])]\n",
    "\n",
    "from collections import defaultdict\n",
    "label_dict= defaultdict(list)\n",
    "for img_idx, img_label in enumerate(img_labels):\n",
    "    label_dict[img_label].append(img_idx)\n",
    "    \n",
    "#Print indices corresponding to 3 digits\n",
    "randIdx = [1,3,9]\n",
    "for i in randIdx:\n",
    "    print(\"{0}: {1}\".format(i, label_dict[i]))"
   ]
  },
  {
   "cell_type": "code",
   "execution_count": 26,
   "metadata": {},
   "outputs": [],
   "source": [
    "#We will compute cosine distance between two images using scipy\n",
    "\n",
    "from scipy import spatial\n",
    "\n",
    "def image_pair_cosine_distance(img1, img2):\n",
    "    if img1.size!=img2.size:\n",
    "        raise ValueEerror(\"Two images need to be of same dimension\")\n",
    "    return 1-spatial.distance.cosine(img1, img2)\n",
    "    "
   ]
  },
  {
   "cell_type": "code",
   "execution_count": 27,
   "metadata": {},
   "outputs": [
    {
     "name": "stdout",
     "output_type": "stream",
     "text": [
      "Distance between two original image: 0.534\n",
      "Distance between two decoded image: 0.723\n"
     ]
    },
    {
     "data": {
      "image/png": "[encoded data removed]",
      "text/plain": [
       "<Figure size 432x432 with 2 Axes>"
      ]
     },
     "metadata": {},
     "output_type": "display_data"
    },
    {
     "data": {
      "image/png": "[encoded data removed]",
      "text/plain": [
       "<Figure size 432x432 with 2 Axes>"
      ]
     },
     "metadata": {},
     "output_type": "display_data"
    }
   ],
   "source": [
    "#Lets compute the distance between the two images of same number\n",
    "\n",
    "digit_of_interest=6\n",
    "\n",
    "digit_index_list= label_dict[digit_of_interest]\n",
    "\n",
    "if len(digit_index_list)<2:\n",
    "    print(\"Need atleast two images to compare\")\n",
    "else:\n",
    "    imgA = img_data[digit_index_list[0],:,:][0]\n",
    "    imgB = img_data[digit_index_list[1],:,:][0]\n",
    "    \n",
    "    #print distance between original image\n",
    "    imgA_B_dist= image_pair_cosine_distance(imgA, imgB)\n",
    "    print(\"Distance between two original image: {0:.3f}\".format(imgA_B_dist))\n",
    "    \n",
    "    #Plot the two images\n",
    "    img1=imgA.reshape(28,28)\n",
    "    text1='Original Image 1'\n",
    "    \n",
    "    img2=imgB.reshape(28,28)\n",
    "    text2='Original Image 2'\n",
    "    \n",
    "    plot_image_pair(img1, text1, img2, text2)\n",
    "    \n",
    "    #Decode the encoded stream\n",
    "    imgA_decoded= model.eval([imgA])[0]\n",
    "    imgB_decoded= model.eval([imgB])[0]\n",
    "    imgA_B_decoded_list = image_pair_cosine_distance(imgA_decoded, imgB_decoded)\n",
    "    \n",
    "    #Print the distance between decoded image \n",
    "    print(\"Distance between two decoded image: {0:.3f}\".format(imgA_B_decoded_list))\n",
    "    \n",
    "    #Plot the two images\n",
    "    #Plot the original and decoded image\n",
    "    img1=imgA_decoded.reshape(28,28)\n",
    "    text1='Decoded Image 1'\n",
    "    \n",
    "    img2=imgB_decoded.reshape(28,28)\n",
    "    text2='Decoded Image 2'\n",
    "    \n",
    "    plot_image_pair(img1, text1, img2, text2)"
   ]
  },
  {
   "cell_type": "code",
   "execution_count": 28,
   "metadata": {},
   "outputs": [],
   "source": [
    "#Note: The cosine distance between the original images comparable to the distance between the corresponding decoded images. \n",
    "#A value of 1 indicates high similarity between the images and 0 indicates no similarity."
   ]
  },
  {
   "cell_type": "code",
   "execution_count": 29,
   "metadata": {},
   "outputs": [
    {
     "name": "stdout",
     "output_type": "stream",
     "text": [
      "3.0350858990389566\n"
     ]
    }
   ],
   "source": [
    "#Simple auto encoder test error\n",
    "print(simple_ae_test_error)"
   ]
  },
  {
   "cell_type": "code",
   "execution_count": 30,
   "metadata": {},
   "outputs": [
    {
     "name": "stdout",
     "output_type": "stream",
     "text": [
      "3.1667083137644787\n"
     ]
    }
   ],
   "source": [
    "#Deep auto encoder test error\n",
    "print(deep_ae_test_error)"
   ]
  },
  {
   "cell_type": "code",
   "execution_count": null,
   "metadata": {},
   "outputs": [],
   "source": []
  }
 ],
 "metadata": {
  "kernelspec": {
   "display_name": "Python 3",
   "language": "python",
   "name": "python3"
  },
  "language_info": {
   "codemirror_mode": {
    "name": "ipython",
    "version": 3
   },
   "file_extension": ".py",
   "mimetype": "text/x-python",
   "name": "python",
   "nbconvert_exporter": "python",
   "pygments_lexer": "ipython3",
   "version": "3.6.5"
  }
 },
 "nbformat": 4,
 "nbformat_minor": 2
}
