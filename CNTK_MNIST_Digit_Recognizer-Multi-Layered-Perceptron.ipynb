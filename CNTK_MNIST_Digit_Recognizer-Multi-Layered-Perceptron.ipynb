{
 "cells": [
  {
   "cell_type": "code",
   "execution_count": 2,
   "metadata": {},
   "outputs": [],
   "source": [
    "#Multi-Layer Perceptron with MNIST\n",
    "from IPython.display import Image"
   ]
  },
  {
   "cell_type": "code",
   "execution_count": 3,
   "metadata": {},
   "outputs": [
    {
     "data": {
      "text/html": [
       "<img src=\"http://3.bp.blogspot.com/_UpN7DfJA0j4/TJtUBWPk0SI/AAAAAAAAABY/oWPMtmqJn3k/s1600/mnist_originals.png\" width=\"200\" height=\"200\"/>"
      ],
      "text/plain": [
       "<IPython.core.display.Image object>"
      ]
     },
     "execution_count": 3,
     "metadata": {},
     "output_type": "execute_result"
    }
   ],
   "source": [
    "#Sample of Images\n",
    "Image(url= \"http://3.bp.blogspot.com/_UpN7DfJA0j4/TJtUBWPk0SI/AAAAAAAAABY/oWPMtmqJn3k/s1600/mnist_originals.png\", width=200, height=200)"
   ]
  },
  {
   "cell_type": "code",
   "execution_count": 5,
   "metadata": {},
   "outputs": [],
   "source": [
    "from __future__ import print_function\n",
    "import matplotlib.image as mpimg\n",
    "import matplotlib.pyplot as plt\n",
    "import numpy as np\n",
    "import os\n",
    "import sys\n",
    "import cntk as C\n",
    "import cntk.tests.test_utils\n",
    "cntk.tests.test_utils.set_device_from_pytest_env()\n",
    "C.cntk_py.set_fixed_random_seed(1)\n",
    "\n",
    "%matplotlib inline"
   ]
  },
  {
   "cell_type": "code",
   "execution_count": 8,
   "metadata": {},
   "outputs": [],
   "source": [
    "#Define data dimensions\n",
    "input_dim=784\n",
    "num_output_classes=10"
   ]
  },
  {
   "cell_type": "code",
   "execution_count": 9,
   "metadata": {},
   "outputs": [],
   "source": [
    "#Read a CTF formatted text using a CTF Deserializer from a file\n",
    "def create_reader(path, is_training, input_dim, num_label_classes):\n",
    "    return C.io.MinibatchSource(C.io.CTFDeserializer(path, C.io.StreamDefs(\n",
    "        labels=C.io.StreamDef(field='labels', shape=num_label_classes, is_sparse=False),\n",
    "        features=C.io.StreamDef(field='features', shape=input_dim, is_sparse=False)\n",
    "    )), randomize=is_training, max_sweeps=C.io.INFINITELY_REPEAT if is_training else 1)"
   ]
  },
  {
   "cell_type": "code",
   "execution_count": 16,
   "metadata": {},
   "outputs": [
    {
     "name": "stdout",
     "output_type": "stream",
     "text": [
      "Data directory is data\\MNIST\n"
     ]
    }
   ],
   "source": [
    "# Ensure the training and test data is generated and available for this tutorial.\n",
    "# We search in two locations in the toolkit for the cached MNIST data set.\n",
    "data_found = False\n",
    "for data_dir in [os.path.join(\"..\", \"Examples\", \"Image\", \"DataSets\", \"MNIST\"),\n",
    "                 os.path.join(\"data\", \"MNIST\")]:\n",
    "    train_file = os.path.join(data_dir, \"Train-28x28_cntk_text.txt\")\n",
    "    test_file = os.path.join(data_dir, \"Test-28x28_cntk_text.txt\")\n",
    "    if os.path.isfile(train_file) and os.path.isfile(test_file):\n",
    "        data_found = True\n",
    "        break\n",
    "if not data_found:\n",
    "    raise ValueError(\"Please generate the data by completing CNTK 103 Part A\")\n",
    "print(\"Data directory is {0}\".format(data_dir))"
   ]
  },
  {
   "cell_type": "code",
   "execution_count": 18,
   "metadata": {},
   "outputs": [],
   "source": [
    "#Model Creation\n",
    "num_hidden_layers=2\n",
    "hidden_layers_dim=400\n",
    "input=C.input_variable(input_dim)\n",
    "label=C.input_variable(num_output_classes)"
   ]
  },
  {
   "cell_type": "code",
   "execution_count": 19,
   "metadata": {},
   "outputs": [],
   "source": [
    "#Multi-layer perceptron setup\n",
    "def create_model(features):\n",
    "    with C.layers.default_options(init=C.layers.glorot_uniform(), activation=C.ops.relu):\n",
    "        h=features\n",
    "        for _ in range(num_hidden_layers):\n",
    "            h=C.layers.Dense(hidden_layers_dim)(h)\n",
    "            r=C.layers.Dense(num_output_classes, activation=None)(h)\n",
    "            return r\n",
    "z=create_model(input)"
   ]
  },
  {
   "cell_type": "code",
   "execution_count": 21,
   "metadata": {},
   "outputs": [],
   "source": [
    "#Scale the input in the range of 0-1 by dividing it with 255\n",
    "z=create_model(input/255)"
   ]
  },
  {
   "cell_type": "code",
   "execution_count": 23,
   "metadata": {},
   "outputs": [],
   "source": [
    "#Learning model parameters\n",
    "\n",
    "#Training\n",
    "loss=C.cross_entropy_with_softmax(z, label)"
   ]
  },
  {
   "cell_type": "code",
   "execution_count": 24,
   "metadata": {},
   "outputs": [],
   "source": [
    "#Evaluation\n",
    "label_error=C.classification_error(z, label)"
   ]
  },
  {
   "cell_type": "code",
   "execution_count": 25,
   "metadata": {},
   "outputs": [],
   "source": [
    "#Configure training\n",
    "\n",
    "#Instatntiate the training object to drive the model training\n",
    "learning_rate=0.2\n",
    "lr_schedule=C.learning_parameter_schedule(learning_rate)\n",
    "learner=C.sgd(z.parameters, lr_schedule)\n",
    "trainer=C.Trainer(z, (loss, label_error), [learner])"
   ]
  },
  {
   "cell_type": "code",
   "execution_count": 26,
   "metadata": {},
   "outputs": [],
   "source": [
    "#Define a utility function to compute the moving average sum\n",
    "#An efficient implementation is possible with np.cumsum() function\n",
    "def moving_average(a, w=5):\n",
    "    if len(a)< w:\n",
    "        return a[:] #Need to send a copy of the array\n",
    "    return [val if idx < w  else sum(a[(idx-w):idx])/w for idx, val in enumerate(a)]\n",
    "\n",
    "#Define a utility that prints the training progress\n",
    "def print_training_progress(trainer, mb, frequency, verbose=1):\n",
    "    training_loss=\"NA\"\n",
    "    eval_error=\"NA\"\n",
    "    \n",
    "    if mb%frequency ==0 :\n",
    "        training_loss= trainer.previous_minibatch_loss_average\n",
    "        eval_error=trainer.previous_minibatch_evaluation_average\n",
    "        if verbose:\n",
    "            print(\"Minibatch: {0}, Loss: {1:.4f}, Error: {2:.2f}%\".format(mb, training_loss, eval_error*100))\n",
    "            \n",
    "    return mb, training_loss, eval_error\n",
    "    \n"
   ]
  },
  {
   "cell_type": "code",
   "execution_count": 28,
   "metadata": {},
   "outputs": [],
   "source": [
    "#Run the trainer\n",
    "\n",
    "#Initialize the parameters for the trainer\n",
    "minibatch_size=64\n",
    "num_samples_per_sweep=60000\n",
    "num_sweeps_to_train_with=10\n",
    "num_minibatches_to_train= (num_samples_per_sweep*num_sweeps_to_train_with)/minibatch_size"
   ]
  },
  {
   "cell_type": "code",
   "execution_count": 30,
   "metadata": {},
   "outputs": [
    {
     "name": "stdout",
     "output_type": "stream",
     "text": [
      "Minibatch: 0, Loss: 2.2645, Error: 85.94%\n",
      "Minibatch: 500, Loss: 0.3232, Error: 12.50%\n",
      "Minibatch: 1000, Loss: 0.1045, Error: 1.56%\n",
      "Minibatch: 1500, Loss: 0.1754, Error: 7.81%\n",
      "Minibatch: 2000, Loss: 0.0321, Error: 0.00%\n",
      "Minibatch: 2500, Loss: 0.0446, Error: 1.56%\n",
      "Minibatch: 3000, Loss: 0.0126, Error: 0.00%\n",
      "Minibatch: 3500, Loss: 0.0649, Error: 1.56%\n",
      "Minibatch: 4000, Loss: 0.0767, Error: 3.12%\n",
      "Minibatch: 4500, Loss: 0.0690, Error: 3.12%\n",
      "Minibatch: 5000, Loss: 0.0279, Error: 1.56%\n",
      "Minibatch: 5500, Loss: 0.0097, Error: 0.00%\n",
      "Minibatch: 6000, Loss: 0.0235, Error: 0.00%\n",
      "Minibatch: 6500, Loss: 0.0236, Error: 0.00%\n",
      "Minibatch: 7000, Loss: 0.0113, Error: 0.00%\n",
      "Minibatch: 7500, Loss: 0.0269, Error: 1.56%\n",
      "Minibatch: 8000, Loss: 0.0076, Error: 0.00%\n",
      "Minibatch: 8500, Loss: 0.0086, Error: 0.00%\n",
      "Minibatch: 9000, Loss: 0.0159, Error: 0.00%\n"
     ]
    }
   ],
   "source": [
    "#Create the reader to training dataset\n",
    "reader_train=create_reader(train_file, True, input_dim, num_output_classes)\n",
    "\n",
    "#Map the data streams to the input labels\n",
    "input_map={\n",
    "    label: reader_train.streams.labels,\n",
    "    input: reader_train.streams.features\n",
    "}\n",
    "\n",
    "#Run the trainer on and perform model training\n",
    "training_progress_output_freq=500\n",
    "\n",
    "plotdata={\"batchsize\": [], \"loss\": [], \"error\":[]}\n",
    "\n",
    "for i in range(0, int(num_minibatches_to_train)):\n",
    "    \n",
    "    #Read a minibatch from the training data file\n",
    "    data=reader_train.next_minibatch(minibatch_size, input_map=input_map)\n",
    "    \n",
    "    trainer.train_minibatch(data)\n",
    "    batchsize, loss, error=print_training_progress(trainer, i, training_progress_output_freq, verbose=1)\n",
    "    \n",
    "    if not (loss==\"NA\" or error ==\"NA\"):\n",
    "        plotdata[\"batchsize\"].append(batchsize)\n",
    "        plotdata[\"loss\"].append(loss)\n",
    "        plotdata[\"error\"].append(error)"
   ]
  },
  {
   "cell_type": "code",
   "execution_count": 31,
   "metadata": {},
   "outputs": [
    {
     "data": {
      "image/png": "[encoded data removed]",
      "text/plain": [
       "<Figure size 432x288 with 1 Axes>"
      ]
     },
     "metadata": {},
     "output_type": "display_data"
    },
    {
     "data": {
      "image/png": "[encoded data removed]",
      "text/plain": [
       "<Figure size 432x288 with 1 Axes>"
      ]
     },
     "metadata": {},
     "output_type": "display_data"
    }
   ],
   "source": [
    "#Compute the moving average loss to smooth out the loss in SGD\n",
    "plotdata[\"avgloss\"]=moving_average(plotdata[\"loss\"])\n",
    "plotdata[\"avgerror\"]=moving_average(plotdata[\"error\"])\n",
    "\n",
    "#plot the training loss and training error\n",
    "\n",
    "plt.figure(1)\n",
    "plt.subplot(211)\n",
    "plt.plot(plotdata[\"batchsize\"], plotdata[\"avgloss\"], 'b--')\n",
    "plt.xlabel(\"Minibatch Number\")\n",
    "plt.ylabel(\"Loss\")\n",
    "plt.title(\"Minibatch vs Training Loss\")\n",
    "\n",
    "plt.show()\n",
    "\n",
    "\n",
    "plt.subplot(212)\n",
    "plt.plot(plotdata[\"batchsize\"], plotdata[\"avgerror\"], 'r--')\n",
    "plt.xlabel(\"Minibatch Number\")\n",
    "plt.ylabel(\"Error\")\n",
    "plt.title(\"Minibatch vs Training Error\")\n",
    "\n",
    "plt.show()\n",
    "         "
   ]
  },
  {
   "cell_type": "code",
   "execution_count": 34,
   "metadata": {},
   "outputs": [
    {
     "name": "stdout",
     "output_type": "stream",
     "text": [
      "Average test error: 1.72%\n"
     ]
    }
   ],
   "source": [
    "#Run eavluation/testing\n",
    "\n",
    "#Read the test data\n",
    "reader_test=create_reader(test_file, False, input_dim, num_output_classes)\n",
    "\n",
    "test_input_map={\n",
    "    label: reader_test.streams.labels,\n",
    "    input: reader_test.streams.features\n",
    "}\n",
    "\n",
    "\n",
    "#Test data for trained model\n",
    "test_minibatch_size=512\n",
    "num_samples=10000\n",
    "num_minibatches_to_test=num_samples//test_minibatch_size\n",
    "test_result=0.0\n",
    "\n",
    "for i in range(num_minibatches_to_test):\n",
    "    #We are loading test data in batches specified by the test_minibatch_size\n",
    "    #Easch data pont in the minibatch is an MNIST digit image of 784 dimensions\n",
    "    #with one pixel per dimension that will encode/decode with the trained model\n",
    "    data=reader_test.next_minibatch(test_minibatch_size, input_map=test_input_map)\n",
    "    \n",
    "    eval_error=trainer.test_minibatch(data)\n",
    "    test_result=test_result + eval_error\n",
    "\n",
    "#Average of evaluation errors for all the test minibatches\n",
    "print(\"Average test error: {0:.2f}%\".format(test_result*100/num_minibatches_to_test))"
   ]
  },
  {
   "cell_type": "code",
   "execution_count": 35,
   "metadata": {},
   "outputs": [],
   "source": [
    "out=C.softmax(z)"
   ]
  },
  {
   "cell_type": "code",
   "execution_count": 37,
   "metadata": {},
   "outputs": [],
   "source": [
    "#Read the data for evaluation\n",
    "reader_eval=create_reader(test_file, True, input_dim, num_output_classes)\n",
    "\n",
    "eval_minibatch_size=25\n",
    "eval_input_map={input: reader_eval.streams.features}\n",
    "\n",
    "data=reader_test.next_minibatch(eval_minibatch_size, input_map=test_input_map)\n",
    "\n",
    "img_label=data[label].asarray()\n",
    "img_data=data[input].asarray()\n",
    "predicted_label_prob= [out.eval(img_data[i]) for i in range(len(img_data))]"
   ]
  },
  {
   "cell_type": "code",
   "execution_count": 39,
   "metadata": {},
   "outputs": [],
   "source": [
    "#Find the index with the maximum value on both  predicted as well as ground truth\n",
    "pred=[np.argmax(predicted_label_prob[i]) for i in range(len(predicted_label_prob))]\n",
    "gtlabel= [np.argmax(img_label[i]) for i in range(len(img_label))]"
   ]
  },
  {
   "cell_type": "code",
   "execution_count": 41,
   "metadata": {},
   "outputs": [
    {
     "name": "stdout",
     "output_type": "stream",
     "text": [
      "Label    : [4, 5, 6, 7, 8, 9, 7, 4, 6, 1, 4, 0, 9, 9, 3, 7, 8, 4, 7, 5, 8, 5, 3, 2, 2]\n",
      "Predicted: [4, 6, 6, 7, 8, 9, 7, 4, 6, 1, 4, 0, 9, 9, 8, 7, 8, 0, 7, 5, 8, 5, 3, 2, 2]\n"
     ]
    }
   ],
   "source": [
    "print(\"Label    :\", gtlabel[:25])\n",
    "print(\"Predicted:\", pred)"
   ]
  },
  {
   "cell_type": "code",
   "execution_count": 44,
   "metadata": {},
   "outputs": [
    {
     "name": "stdout",
     "output_type": "stream",
     "text": [
      "Image Label: 7\n"
     ]
    },
    {
     "data": {
      "image/png": "[encoded data removed]",
      "text/plain": [
       "<Figure size 432x288 with 1 Axes>"
      ]
     },
     "metadata": {},
     "output_type": "display_data"
    }
   ],
   "source": [
    "#plot random image\n",
    "sample_number=6\n",
    "plt.imshow(img_data[sample_number].reshape(28,28), cmap=\"gray_r\")\n",
    "plt.axis('off')\n",
    "\n",
    "img_gt, img_pred= gtlabel[sample_number], pred[sample_number]\n",
    "print(\"Image Label:\", img_pred)"
   ]
  },
  {
   "cell_type": "code",
   "execution_count": null,
   "metadata": {},
   "outputs": [],
   "source": []
  }
 ],
 "metadata": {
  "kernelspec": {
   "display_name": "Python 3",
   "language": "python",
   "name": "python3"
  },
  "language_info": {
   "codemirror_mode": {
    "name": "ipython",
    "version": 3
   },
   "file_extension": ".py",
   "mimetype": "text/x-python",
   "name": "python",
   "nbconvert_exporter": "python",
   "pygments_lexer": "ipython3",
   "version": "3.6.5"
  }
 },
 "nbformat": 4,
 "nbformat_minor": 2
}
