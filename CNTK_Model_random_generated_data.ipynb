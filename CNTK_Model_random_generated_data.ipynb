{
 "cells": [
  {
   "cell_type": "code",
   "execution_count": 2,
   "metadata": {},
   "outputs": [
    {
     "data": {
      "text/plain": [
       "'2.5.1'"
      ]
     },
     "execution_count": 2,
     "metadata": {},
     "output_type": "execute_result"
    }
   ],
   "source": [
    "#Using Microsoft Cognitive Toolkit CNTK\n",
    "import cntk\n",
    "cntk.__version__"
   ]
  },
  {
   "cell_type": "code",
   "execution_count": 6,
   "metadata": {},
   "outputs": [
    {
     "data": {
      "text/plain": [
       "array([-3., -3., -3.], dtype=float32)"
      ]
     },
     "execution_count": 6,
     "metadata": {},
     "output_type": "execute_result"
    }
   ],
   "source": [
    "cntk.minus([1,2,3], [4,5,6]) #It will give the type of operation taht will be performed and the dimension of the array constants\n",
    "cntk.minus([1,2,3], [4,5,6]).eval() #It will generate the actual output"
   ]
  },
  {
   "cell_type": "code",
   "execution_count": 12,
   "metadata": {},
   "outputs": [
    {
     "data": {
      "text/plain": [
       "array([29.], dtype=float32)"
      ]
     },
     "execution_count": 12,
     "metadata": {},
     "output_type": "execute_result"
    }
   ],
   "source": [
    "#A slightly more interesting example that uses input variables \n",
    "import numpy as np\n",
    "x=cntk.input_variable(2)\n",
    "y=cntk.input_variable(2)\n",
    "x0=np.asarray([[2.,1.]], dtype=np.float32)\n",
    "y0=np.asarray([[4.,6.]], dtype=np.float32)\n",
    "cntk.squared_error(x,y).eval({x:x0,y:y0}) #Operation= ((2-4)^2 +(1-6)^2) = 4+25=29\n"
   ]
  },
  {
   "cell_type": "code",
   "execution_count": 13,
   "metadata": {},
   "outputs": [
    {
     "name": "stdout",
     "output_type": "stream",
     "text": [
      "[[3. 3. 3.]\n",
      " [3. 3. 3.]\n",
      " [3. 3. 3.]]\n"
     ]
    },
    {
     "data": {
      "text/plain": [
       "array([[1., 1., 1.],\n",
       "       [1., 1., 1.],\n",
       "       [1., 1., 1.]], dtype=float32)"
      ]
     },
     "execution_count": 13,
     "metadata": {},
     "output_type": "execute_result"
    }
   ],
   "source": [
    "import cntk as C\n",
    "c=C.constant(3, shape=(3,3))\n",
    "print(c.asarray())\n",
    "np.ones_like(c.asarray())"
   ]
  },
  {
   "cell_type": "code",
   "execution_count": 14,
   "metadata": {},
   "outputs": [],
   "source": [
    "#Setup a network that will learn a classifier with fully connected layers using only the \n",
    "#functions Sequential() and Dense() from the Layers Library\n",
    "\n",
    "from __future__ import print_function\n",
    "import numpy as np\n",
    "import cntk as C\n",
    "from cntk.learners import sgd\n",
    "from cntk.logging import ProgressPrinter\n",
    "from cntk.layers import Dense, Sequential"
   ]
  },
  {
   "cell_type": "code",
   "execution_count": 15,
   "metadata": {},
   "outputs": [],
   "source": [
    "def generate_random_data(sample_size, feature_dim, num_classes):\n",
    "    \n",
    "    #Create synthetic data using numpy\n",
    "    Y=np.random.randint(size=(sample_size, 1), low=0, high=num_classes)\n",
    "    #Make sure the data is separable\n",
    "    X=(np.random.randn(sample_size, feature_dim)+3)*(Y+1)\n",
    "    X=X.astype(np.float32)\n",
    "    #Converting class 0 into vector \"1 0 0\", \n",
    "    #class 1 into vector \"0 1 0\", ...\n",
    "    class_ind= [Y == class_number for class_number in range(num_classes)]\n",
    "    Y=np.asarray(np.hstack(class_ind), dtype=np.float32)\n",
    "    return X, Y"
   ]
  },
  {
   "cell_type": "code",
   "execution_count": 20,
   "metadata": {},
   "outputs": [
    {
     "name": "stdout",
     "output_type": "stream",
     "text": [
      " average      since    average      since      examples\n",
      "    loss       last     metric       last              \n",
      " ------------------------------------------------------\n",
      "Learning rate per minibatch: 0.125\n",
      "     0.78       0.78        0.6        0.6            25\n",
      "    0.716      0.684       0.52       0.48            75\n",
      "    0.685      0.661      0.491       0.47           175\n",
      "    0.617      0.558      0.309       0.15           375\n",
      "    0.548      0.484      0.223      0.142           775\n",
      "    0.465      0.385      0.156       0.09          1575\n",
      "    0.384      0.303      0.122     0.0887          3175\n",
      "    0.324      0.264      0.105     0.0878          6375\n",
      "    0.278      0.233     0.0932     0.0817         12775\n",
      "    0.247      0.216     0.0863     0.0794         25575\n",
      " error rate of an unseen minibatch: 0.08\n"
     ]
    },
    {
     "data": {
      "text/plain": [
       "(0.2469795736670494, 0.08)"
      ]
     },
     "execution_count": 20,
     "metadata": {},
     "output_type": "execute_result"
    }
   ],
   "source": [
    "def ffnet():\n",
    "    inputs=2\n",
    "    outputs=2\n",
    "    layers=2\n",
    "    hidden_dimension=50\n",
    "    \n",
    "    #Input variables denoting the features and label data\n",
    "    features=C.input_variable((inputs), np.float32)\n",
    "    label=C.input_variable((outputs), np.float32)\n",
    "    \n",
    "    #Instantiate the Classification Feed Forward model\n",
    "    my_model=Sequential([\n",
    "        Dense(hidden_dimension, activation=C.sigmoid),\n",
    "        Dense(outputs)])\n",
    "    z=my_model(features)\n",
    "    \n",
    "    ce=C.cross_entropy_with_softmax(z, label)\n",
    "    pe=C.classification_error(z, label)\n",
    "    \n",
    "    #Instantiate the trainer object to drive the model training\n",
    "    lr_per_minibatch=C.learning_parameter_schedule(0.125)\n",
    "    progress_printer=ProgressPrinter(0)\n",
    "    trainer=C.Trainer(z, (ce,pe), [sgd(z.parameters, lr=lr_per_minibatch)], [progress_printer])\n",
    "    \n",
    "    #Get mini-batches of training data and perform model training\n",
    "    minibatch_size=25\n",
    "    num_minibatches_to_train=1024\n",
    "    \n",
    "    aggregate_loss=0.0\n",
    "    for i in range(num_minibatches_to_train):\n",
    "        train_features, labels = generate_random_data(minibatch_size, inputs, outputs)\n",
    "        #Specify the mapping of input variables in the mdoel to actual minibatch data to be trained with\n",
    "        trainer.train_minibatch({features:  train_features, label: labels})\n",
    "        sample_count=trainer.previous_minibatch_sample_count\n",
    "        aggregate_loss+=trainer.previous_minibatch_loss_average*sample_count\n",
    "        \n",
    "    last_avg_error=aggregate_loss/trainer.total_number_of_samples_seen\n",
    "    \n",
    "    test_features, test_labels=generate_random_data(minibatch_size, inputs, outputs)\n",
    "    avg_error=trainer.test_minibatch({features: test_features, label: test_labels})\n",
    "    print(' error rate of an unseen minibatch: {}'.format(avg_error))\n",
    "    return last_avg_error, avg_error\n",
    "\n",
    "np.random.seed(12345)\n",
    "ffnet()        \n",
    "        \n",
    "    \n",
    "    "
   ]
  },
  {
   "cell_type": "code",
   "execution_count": null,
   "metadata": {},
   "outputs": [],
   "source": []
  }
 ],
 "metadata": {
  "kernelspec": {
   "display_name": "Python 3",
   "language": "python",
   "name": "python3"
  },
  "language_info": {
   "codemirror_mode": {
    "name": "ipython",
    "version": 3
   },
   "file_extension": ".py",
   "mimetype": "text/x-python",
   "name": "python",
   "nbconvert_exporter": "python",
   "pygments_lexer": "ipython3",
   "version": "3.6.5"
  }
 },
 "nbformat": 4,
 "nbformat_minor": 2
}
